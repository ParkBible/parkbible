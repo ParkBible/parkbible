{
 "cells": [
  {
   "cell_type": "markdown",
   "metadata": {},
   "source": [
    "# 다음 퀴즈를 수행하시오."
   ]
  },
  {
   "cell_type": "markdown",
   "metadata": {},
   "source": [
    "### Q1. pandas 모듈을 pd로, numpy 모듈을 np로 불러오시오."
   ]
  },
  {
   "cell_type": "code",
   "execution_count": 1,
   "metadata": {},
   "outputs": [],
   "source": [
    "import pandas as pd\n",
    "import numpy as np"
   ]
  },
  {
   "cell_type": "markdown",
   "metadata": {},
   "source": [
    "### Q2. \"class_scores.csv\"를 pandas 모듈을 활용하여 불러오고 객체 종류를 확인하시오\n",
    "(단, df 객체에 저장하시오)\n"
   ]
  },
  {
   "cell_type": "code",
   "execution_count": 4,
   "metadata": {},
   "outputs": [
    {
     "name": "stdout",
     "output_type": "stream",
     "text": [
      "<class 'pandas.core.frame.DataFrame'>\n",
      "RangeIndex: 600 entries, 0 to 599\n",
      "Data columns (total 9 columns):\n",
      " #   Column     Non-Null Count  Dtype \n",
      "---  ------     --------------  ----- \n",
      " 0   Stu_ID     600 non-null    int64 \n",
      " 1   grade      600 non-null    int64 \n",
      " 2   class      600 non-null    object\n",
      " 3   gender     600 non-null    object\n",
      " 4   Math       600 non-null    int64 \n",
      " 5   English    600 non-null    int64 \n",
      " 6   Science    600 non-null    int64 \n",
      " 7   Marketing  600 non-null    int64 \n",
      " 8   Writing    600 non-null    int64 \n",
      "dtypes: int64(7), object(2)\n",
      "memory usage: 42.3+ KB\n"
     ]
    }
   ],
   "source": [
    "df = pd.read_csv(\"DS_lv1/class_scores.csv\")\n",
    "df.info()"
   ]
  },
  {
   "cell_type": "markdown",
   "metadata": {},
   "source": [
    "### Q3. df의 첫 3개 row를 출력하시오"
   ]
  },
  {
   "cell_type": "code",
   "execution_count": 3,
   "metadata": {},
   "outputs": [
    {
     "data": {
      "text/html": [
       "<div>\n",
       "<style scoped>\n",
       "    .dataframe tbody tr th:only-of-type {\n",
       "        vertical-align: middle;\n",
       "    }\n",
       "\n",
       "    .dataframe tbody tr th {\n",
       "        vertical-align: top;\n",
       "    }\n",
       "\n",
       "    .dataframe thead th {\n",
       "        text-align: right;\n",
       "    }\n",
       "</style>\n",
       "<table border=\"1\" class=\"dataframe\">\n",
       "  <thead>\n",
       "    <tr style=\"text-align: right;\">\n",
       "      <th></th>\n",
       "      <th>Stu_ID</th>\n",
       "      <th>grade</th>\n",
       "      <th>class</th>\n",
       "      <th>gender</th>\n",
       "      <th>Math</th>\n",
       "      <th>English</th>\n",
       "      <th>Science</th>\n",
       "      <th>Marketing</th>\n",
       "      <th>Writing</th>\n",
       "    </tr>\n",
       "  </thead>\n",
       "  <tbody>\n",
       "    <tr>\n",
       "      <th>0</th>\n",
       "      <td>10101</td>\n",
       "      <td>1</td>\n",
       "      <td>A</td>\n",
       "      <td>M</td>\n",
       "      <td>55</td>\n",
       "      <td>84</td>\n",
       "      <td>50</td>\n",
       "      <td>40</td>\n",
       "      <td>59</td>\n",
       "    </tr>\n",
       "    <tr>\n",
       "      <th>1</th>\n",
       "      <td>10102</td>\n",
       "      <td>1</td>\n",
       "      <td>A</td>\n",
       "      <td>M</td>\n",
       "      <td>29</td>\n",
       "      <td>94</td>\n",
       "      <td>41</td>\n",
       "      <td>87</td>\n",
       "      <td>57</td>\n",
       "    </tr>\n",
       "    <tr>\n",
       "      <th>2</th>\n",
       "      <td>10103</td>\n",
       "      <td>1</td>\n",
       "      <td>A</td>\n",
       "      <td>F</td>\n",
       "      <td>28</td>\n",
       "      <td>80</td>\n",
       "      <td>68</td>\n",
       "      <td>41</td>\n",
       "      <td>100</td>\n",
       "    </tr>\n",
       "  </tbody>\n",
       "</table>\n",
       "</div>"
      ],
      "text/plain": [
       "   Stu_ID  grade class gender  Math  English  Science  Marketing  Writing\n",
       "0   10101      1     A      M    55       84       50         40       59\n",
       "1   10102      1     A      M    29       94       41         87       57\n",
       "2   10103      1     A      F    28       80       68         41      100"
      ]
     },
     "execution_count": 3,
     "metadata": {},
     "output_type": "execute_result"
    }
   ],
   "source": [
    "df.head(3)"
   ]
  },
  {
   "cell_type": "markdown",
   "metadata": {},
   "source": [
    "### Q4. df의 마지막 2개 row를 출력하시오"
   ]
  },
  {
   "cell_type": "code",
   "execution_count": 5,
   "metadata": {},
   "outputs": [
    {
     "data": {
      "text/html": [
       "<div>\n",
       "<style scoped>\n",
       "    .dataframe tbody tr th:only-of-type {\n",
       "        vertical-align: middle;\n",
       "    }\n",
       "\n",
       "    .dataframe tbody tr th {\n",
       "        vertical-align: top;\n",
       "    }\n",
       "\n",
       "    .dataframe thead th {\n",
       "        text-align: right;\n",
       "    }\n",
       "</style>\n",
       "<table border=\"1\" class=\"dataframe\">\n",
       "  <thead>\n",
       "    <tr style=\"text-align: right;\">\n",
       "      <th></th>\n",
       "      <th>Stu_ID</th>\n",
       "      <th>grade</th>\n",
       "      <th>class</th>\n",
       "      <th>gender</th>\n",
       "      <th>Math</th>\n",
       "      <th>English</th>\n",
       "      <th>Science</th>\n",
       "      <th>Marketing</th>\n",
       "      <th>Writing</th>\n",
       "    </tr>\n",
       "  </thead>\n",
       "  <tbody>\n",
       "    <tr>\n",
       "      <th>598</th>\n",
       "      <td>30539</td>\n",
       "      <td>3</td>\n",
       "      <td>E</td>\n",
       "      <td>M</td>\n",
       "      <td>51</td>\n",
       "      <td>67</td>\n",
       "      <td>39</td>\n",
       "      <td>91</td>\n",
       "      <td>55</td>\n",
       "    </tr>\n",
       "    <tr>\n",
       "      <th>599</th>\n",
       "      <td>30540</td>\n",
       "      <td>3</td>\n",
       "      <td>E</td>\n",
       "      <td>M</td>\n",
       "      <td>76</td>\n",
       "      <td>29</td>\n",
       "      <td>80</td>\n",
       "      <td>91</td>\n",
       "      <td>66</td>\n",
       "    </tr>\n",
       "  </tbody>\n",
       "</table>\n",
       "</div>"
      ],
      "text/plain": [
       "     Stu_ID  grade class gender  Math  English  Science  Marketing  Writing\n",
       "598   30539      3     E      M    51       67       39         91       55\n",
       "599   30540      3     E      M    76       29       80         91       66"
      ]
     },
     "execution_count": 5,
     "metadata": {},
     "output_type": "execute_result"
    }
   ],
   "source": [
    "df.tail(2)"
   ]
  },
  {
   "cell_type": "markdown",
   "metadata": {},
   "source": [
    "### Q5. df의 차원을 확인하시오"
   ]
  },
  {
   "cell_type": "code",
   "execution_count": 7,
   "metadata": {},
   "outputs": [
    {
     "data": {
      "text/plain": [
       "(600, 9)"
      ]
     },
     "execution_count": 7,
     "metadata": {},
     "output_type": "execute_result"
    }
   ],
   "source": [
    "df.shape"
   ]
  },
  {
   "cell_type": "markdown",
   "metadata": {},
   "source": [
    "### Q6. df의 row 개수를 확인하시오"
   ]
  },
  {
   "cell_type": "code",
   "execution_count": 10,
   "metadata": {},
   "outputs": [
    {
     "data": {
      "text/plain": [
       "600"
      ]
     },
     "execution_count": 10,
     "metadata": {},
     "output_type": "execute_result"
    }
   ],
   "source": [
    "len(df)"
   ]
  },
  {
   "cell_type": "markdown",
   "metadata": {},
   "source": [
    "### Q7. df의 column 개수를 확인하시오"
   ]
  },
  {
   "cell_type": "code",
   "execution_count": 16,
   "metadata": {},
   "outputs": [
    {
     "data": {
      "text/plain": [
       "9"
      ]
     },
     "execution_count": 16,
     "metadata": {},
     "output_type": "execute_result"
    }
   ],
   "source": [
    "len(df.columns)"
   ]
  },
  {
   "cell_type": "markdown",
   "metadata": {},
   "source": [
    "### Q8. df의 column 이름을 확인하시오"
   ]
  },
  {
   "cell_type": "code",
   "execution_count": 18,
   "metadata": {},
   "outputs": [
    {
     "data": {
      "text/plain": [
       "Index(['Stu_ID', 'grade', 'class', 'gender', 'Math', 'English', 'Science',\n",
       "       'Marketing', 'Writing'],\n",
       "      dtype='object')"
      ]
     },
     "execution_count": 18,
     "metadata": {},
     "output_type": "execute_result"
    }
   ],
   "source": [
    "df.columns"
   ]
  },
  {
   "cell_type": "markdown",
   "metadata": {},
   "source": [
    "### Q9. 2학년의 학번, 학년, 성적 전체를 추출하여 df_sub 객체에 저장하시오."
   ]
  },
  {
   "cell_type": "code",
   "execution_count": 30,
   "metadata": {},
   "outputs": [
    {
     "data": {
      "text/html": [
       "<div>\n",
       "<style scoped>\n",
       "    .dataframe tbody tr th:only-of-type {\n",
       "        vertical-align: middle;\n",
       "    }\n",
       "\n",
       "    .dataframe tbody tr th {\n",
       "        vertical-align: top;\n",
       "    }\n",
       "\n",
       "    .dataframe thead th {\n",
       "        text-align: right;\n",
       "    }\n",
       "</style>\n",
       "<table border=\"1\" class=\"dataframe\">\n",
       "  <thead>\n",
       "    <tr style=\"text-align: right;\">\n",
       "      <th></th>\n",
       "      <th>Stu_ID</th>\n",
       "      <th>grade</th>\n",
       "      <th>Math</th>\n",
       "      <th>English</th>\n",
       "      <th>Science</th>\n",
       "      <th>Marketing</th>\n",
       "      <th>Writing</th>\n",
       "    </tr>\n",
       "  </thead>\n",
       "  <tbody>\n",
       "    <tr>\n",
       "      <th>200</th>\n",
       "      <td>20101</td>\n",
       "      <td>2</td>\n",
       "      <td>57</td>\n",
       "      <td>68</td>\n",
       "      <td>98</td>\n",
       "      <td>88</td>\n",
       "      <td>40</td>\n",
       "    </tr>\n",
       "    <tr>\n",
       "      <th>201</th>\n",
       "      <td>20102</td>\n",
       "      <td>2</td>\n",
       "      <td>94</td>\n",
       "      <td>33</td>\n",
       "      <td>32</td>\n",
       "      <td>44</td>\n",
       "      <td>90</td>\n",
       "    </tr>\n",
       "    <tr>\n",
       "      <th>202</th>\n",
       "      <td>20103</td>\n",
       "      <td>2</td>\n",
       "      <td>75</td>\n",
       "      <td>73</td>\n",
       "      <td>34</td>\n",
       "      <td>37</td>\n",
       "      <td>85</td>\n",
       "    </tr>\n",
       "    <tr>\n",
       "      <th>203</th>\n",
       "      <td>20104</td>\n",
       "      <td>2</td>\n",
       "      <td>73</td>\n",
       "      <td>85</td>\n",
       "      <td>35</td>\n",
       "      <td>39</td>\n",
       "      <td>65</td>\n",
       "    </tr>\n",
       "    <tr>\n",
       "      <th>204</th>\n",
       "      <td>20105</td>\n",
       "      <td>2</td>\n",
       "      <td>64</td>\n",
       "      <td>26</td>\n",
       "      <td>86</td>\n",
       "      <td>64</td>\n",
       "      <td>72</td>\n",
       "    </tr>\n",
       "    <tr>\n",
       "      <th>...</th>\n",
       "      <td>...</td>\n",
       "      <td>...</td>\n",
       "      <td>...</td>\n",
       "      <td>...</td>\n",
       "      <td>...</td>\n",
       "      <td>...</td>\n",
       "      <td>...</td>\n",
       "    </tr>\n",
       "    <tr>\n",
       "      <th>395</th>\n",
       "      <td>20536</td>\n",
       "      <td>2</td>\n",
       "      <td>29</td>\n",
       "      <td>33</td>\n",
       "      <td>95</td>\n",
       "      <td>40</td>\n",
       "      <td>51</td>\n",
       "    </tr>\n",
       "    <tr>\n",
       "      <th>396</th>\n",
       "      <td>20537</td>\n",
       "      <td>2</td>\n",
       "      <td>95</td>\n",
       "      <td>100</td>\n",
       "      <td>96</td>\n",
       "      <td>95</td>\n",
       "      <td>60</td>\n",
       "    </tr>\n",
       "    <tr>\n",
       "      <th>397</th>\n",
       "      <td>20538</td>\n",
       "      <td>2</td>\n",
       "      <td>79</td>\n",
       "      <td>55</td>\n",
       "      <td>32</td>\n",
       "      <td>78</td>\n",
       "      <td>31</td>\n",
       "    </tr>\n",
       "    <tr>\n",
       "      <th>398</th>\n",
       "      <td>20539</td>\n",
       "      <td>2</td>\n",
       "      <td>74</td>\n",
       "      <td>60</td>\n",
       "      <td>99</td>\n",
       "      <td>68</td>\n",
       "      <td>80</td>\n",
       "    </tr>\n",
       "    <tr>\n",
       "      <th>399</th>\n",
       "      <td>20540</td>\n",
       "      <td>2</td>\n",
       "      <td>58</td>\n",
       "      <td>88</td>\n",
       "      <td>35</td>\n",
       "      <td>92</td>\n",
       "      <td>41</td>\n",
       "    </tr>\n",
       "  </tbody>\n",
       "</table>\n",
       "<p>200 rows × 7 columns</p>\n",
       "</div>"
      ],
      "text/plain": [
       "     Stu_ID  grade  Math  English  Science  Marketing  Writing\n",
       "200   20101      2    57       68       98         88       40\n",
       "201   20102      2    94       33       32         44       90\n",
       "202   20103      2    75       73       34         37       85\n",
       "203   20104      2    73       85       35         39       65\n",
       "204   20105      2    64       26       86         64       72\n",
       "..      ...    ...   ...      ...      ...        ...      ...\n",
       "395   20536      2    29       33       95         40       51\n",
       "396   20537      2    95      100       96         95       60\n",
       "397   20538      2    79       55       32         78       31\n",
       "398   20539      2    74       60       99         68       80\n",
       "399   20540      2    58       88       35         92       41\n",
       "\n",
       "[200 rows x 7 columns]"
      ]
     },
     "execution_count": 30,
     "metadata": {},
     "output_type": "execute_result"
    }
   ],
   "source": [
    "df_sub = df.loc[df[\"grade\"] == 2, ]\n",
    "df_sub = df_sub.drop([\"gender\", \"class\"], axis=1)\n",
    "df_sub\n",
    "# df_sub = df.loc[df[\"grade\"] == 2, columns]  :columns는 열 이름"
   ]
  },
  {
   "cell_type": "markdown",
   "metadata": {},
   "source": [
    "### Q10. df_sub를 기준으로 학생 개개인의 성적 평균을 계산하고 학번과 같이 \"score_avg.csv\"로 저장하시오."
   ]
  },
  {
   "cell_type": "code",
   "execution_count": 63,
   "metadata": {},
   "outputs": [
    {
     "data": {
      "text/html": [
       "<div>\n",
       "<style scoped>\n",
       "    .dataframe tbody tr th:only-of-type {\n",
       "        vertical-align: middle;\n",
       "    }\n",
       "\n",
       "    .dataframe tbody tr th {\n",
       "        vertical-align: top;\n",
       "    }\n",
       "\n",
       "    .dataframe thead th {\n",
       "        text-align: right;\n",
       "    }\n",
       "</style>\n",
       "<table border=\"1\" class=\"dataframe\">\n",
       "  <thead>\n",
       "    <tr style=\"text-align: right;\">\n",
       "      <th></th>\n",
       "      <th>Stu_ID</th>\n",
       "      <th>avg</th>\n",
       "    </tr>\n",
       "  </thead>\n",
       "  <tbody>\n",
       "    <tr>\n",
       "      <th>200</th>\n",
       "      <td>20101</td>\n",
       "      <td>70.2</td>\n",
       "    </tr>\n",
       "    <tr>\n",
       "      <th>201</th>\n",
       "      <td>20102</td>\n",
       "      <td>58.6</td>\n",
       "    </tr>\n",
       "    <tr>\n",
       "      <th>202</th>\n",
       "      <td>20103</td>\n",
       "      <td>60.8</td>\n",
       "    </tr>\n",
       "    <tr>\n",
       "      <th>203</th>\n",
       "      <td>20104</td>\n",
       "      <td>59.4</td>\n",
       "    </tr>\n",
       "    <tr>\n",
       "      <th>204</th>\n",
       "      <td>20105</td>\n",
       "      <td>62.4</td>\n",
       "    </tr>\n",
       "    <tr>\n",
       "      <th>...</th>\n",
       "      <td>...</td>\n",
       "      <td>...</td>\n",
       "    </tr>\n",
       "    <tr>\n",
       "      <th>395</th>\n",
       "      <td>20536</td>\n",
       "      <td>49.6</td>\n",
       "    </tr>\n",
       "    <tr>\n",
       "      <th>396</th>\n",
       "      <td>20537</td>\n",
       "      <td>89.2</td>\n",
       "    </tr>\n",
       "    <tr>\n",
       "      <th>397</th>\n",
       "      <td>20538</td>\n",
       "      <td>55.0</td>\n",
       "    </tr>\n",
       "    <tr>\n",
       "      <th>398</th>\n",
       "      <td>20539</td>\n",
       "      <td>76.2</td>\n",
       "    </tr>\n",
       "    <tr>\n",
       "      <th>399</th>\n",
       "      <td>20540</td>\n",
       "      <td>62.8</td>\n",
       "    </tr>\n",
       "  </tbody>\n",
       "</table>\n",
       "<p>200 rows × 2 columns</p>\n",
       "</div>"
      ],
      "text/plain": [
       "     Stu_ID   avg\n",
       "200   20101  70.2\n",
       "201   20102  58.6\n",
       "202   20103  60.8\n",
       "203   20104  59.4\n",
       "204   20105  62.4\n",
       "..      ...   ...\n",
       "395   20536  49.6\n",
       "396   20537  89.2\n",
       "397   20538  55.0\n",
       "398   20539  76.2\n",
       "399   20540  62.8\n",
       "\n",
       "[200 rows x 2 columns]"
      ]
     },
     "execution_count": 63,
     "metadata": {},
     "output_type": "execute_result"
    }
   ],
   "source": [
    "df_avg = pd.DataFrame({\"Stu_ID\" : df_sub[\"Stu_ID\"],\n",
    "                      \"avg\" : (df_sub[\"Math\"] + df_sub[\"Writing\"] + df_sub[\"English\"] + df_sub[\"Science\"] + df_sub[\"Marketing\"])/5})\n",
    "df_avg.to_csv(\"score_avg.csv\")\n",
    "df_avg"
   ]
  },
  {
   "cell_type": "code",
   "execution_count": 53,
   "metadata": {},
   "outputs": [
    {
     "data": {
      "text/html": [
       "<div>\n",
       "<style scoped>\n",
       "    .dataframe tbody tr th:only-of-type {\n",
       "        vertical-align: middle;\n",
       "    }\n",
       "\n",
       "    .dataframe tbody tr th {\n",
       "        vertical-align: top;\n",
       "    }\n",
       "\n",
       "    .dataframe thead th {\n",
       "        text-align: right;\n",
       "    }\n",
       "</style>\n",
       "<table border=\"1\" class=\"dataframe\">\n",
       "  <thead>\n",
       "    <tr style=\"text-align: right;\">\n",
       "      <th></th>\n",
       "      <th>Stu_Id</th>\n",
       "      <th>Score_mean</th>\n",
       "    </tr>\n",
       "  </thead>\n",
       "  <tbody>\n",
       "    <tr>\n",
       "      <th>200</th>\n",
       "      <td>20101</td>\n",
       "      <td>70.2</td>\n",
       "    </tr>\n",
       "    <tr>\n",
       "      <th>201</th>\n",
       "      <td>20102</td>\n",
       "      <td>58.6</td>\n",
       "    </tr>\n",
       "  </tbody>\n",
       "</table>\n",
       "</div>"
      ],
      "text/plain": [
       "     Stu_Id  Score_mean\n",
       "200   20101        70.2\n",
       "201   20102        58.6"
      ]
     },
     "execution_count": 53,
     "metadata": {},
     "output_type": "execute_result"
    }
   ],
   "source": [
    "df_score_avg = pd.DataFrame({\"Stu_Id\" : df_sub[\"Stu_ID\"],\n",
    "              \"Score_mean\" : df_sub.iloc[:, 2:].mean(axis = 1)})\n",
    "df_score_avg.head(2)"
   ]
  },
  {
   "cell_type": "markdown",
   "metadata": {},
   "source": [
    "### Q11. df_sub를 기준으로 과목별 성적 최고점, 최저점, 표준편차를 계산하고 과목명과 함께 score_stat에 저장하시오."
   ]
  },
  {
   "cell_type": "code",
   "execution_count": 68,
   "metadata": {},
   "outputs": [
    {
     "data": {
      "text/html": [
       "<div>\n",
       "<style scoped>\n",
       "    .dataframe tbody tr th:only-of-type {\n",
       "        vertical-align: middle;\n",
       "    }\n",
       "\n",
       "    .dataframe tbody tr th {\n",
       "        vertical-align: top;\n",
       "    }\n",
       "\n",
       "    .dataframe thead th {\n",
       "        text-align: right;\n",
       "    }\n",
       "</style>\n",
       "<table border=\"1\" class=\"dataframe\">\n",
       "  <thead>\n",
       "    <tr style=\"text-align: right;\">\n",
       "      <th></th>\n",
       "      <th>name</th>\n",
       "      <th>Score_max</th>\n",
       "      <th>Score_min</th>\n",
       "      <th>Score_std</th>\n",
       "    </tr>\n",
       "  </thead>\n",
       "  <tbody>\n",
       "    <tr>\n",
       "      <th>Math</th>\n",
       "      <td>Math</td>\n",
       "      <td>100</td>\n",
       "      <td>25</td>\n",
       "      <td>21.966154</td>\n",
       "    </tr>\n",
       "    <tr>\n",
       "      <th>English</th>\n",
       "      <td>English</td>\n",
       "      <td>100</td>\n",
       "      <td>25</td>\n",
       "      <td>20.638307</td>\n",
       "    </tr>\n",
       "    <tr>\n",
       "      <th>Science</th>\n",
       "      <td>Science</td>\n",
       "      <td>100</td>\n",
       "      <td>25</td>\n",
       "      <td>23.344244</td>\n",
       "    </tr>\n",
       "    <tr>\n",
       "      <th>Marketing</th>\n",
       "      <td>Marketing</td>\n",
       "      <td>100</td>\n",
       "      <td>25</td>\n",
       "      <td>22.021939</td>\n",
       "    </tr>\n",
       "    <tr>\n",
       "      <th>Writing</th>\n",
       "      <td>Writing</td>\n",
       "      <td>100</td>\n",
       "      <td>25</td>\n",
       "      <td>21.772637</td>\n",
       "    </tr>\n",
       "  </tbody>\n",
       "</table>\n",
       "</div>"
      ],
      "text/plain": [
       "                name  Score_max  Score_min  Score_std\n",
       "Math            Math        100         25  21.966154\n",
       "English      English        100         25  20.638307\n",
       "Science      Science        100         25  23.344244\n",
       "Marketing  Marketing        100         25  22.021939\n",
       "Writing      Writing        100         25  21.772637"
      ]
     },
     "execution_count": 68,
     "metadata": {},
     "output_type": "execute_result"
    }
   ],
   "source": [
    "score_stat = pd.DataFrame({\"name\" : df_sub.columns[2:],\n",
    "            \"Score_max\" : df_sub.iloc[:, 2:].max(),\n",
    "            \"Score_min\" : df_sub.iloc[:, 2:].min(),\n",
    "            \"Score_std\" : df_sub.iloc[:, 2:].std()})\n",
    "score_stat"
   ]
  },
  {
   "cell_type": "markdown",
   "metadata": {},
   "source": [
    "### Q12. score_stat의 index를 0 ~ 4로 만드시오."
   ]
  },
  {
   "cell_type": "code",
   "execution_count": 69,
   "metadata": {},
   "outputs": [
    {
     "data": {
      "text/html": [
       "<div>\n",
       "<style scoped>\n",
       "    .dataframe tbody tr th:only-of-type {\n",
       "        vertical-align: middle;\n",
       "    }\n",
       "\n",
       "    .dataframe tbody tr th {\n",
       "        vertical-align: top;\n",
       "    }\n",
       "\n",
       "    .dataframe thead th {\n",
       "        text-align: right;\n",
       "    }\n",
       "</style>\n",
       "<table border=\"1\" class=\"dataframe\">\n",
       "  <thead>\n",
       "    <tr style=\"text-align: right;\">\n",
       "      <th></th>\n",
       "      <th>index</th>\n",
       "      <th>name</th>\n",
       "      <th>Score_max</th>\n",
       "      <th>Score_min</th>\n",
       "      <th>Score_std</th>\n",
       "    </tr>\n",
       "  </thead>\n",
       "  <tbody>\n",
       "    <tr>\n",
       "      <th>0</th>\n",
       "      <td>Math</td>\n",
       "      <td>Math</td>\n",
       "      <td>100</td>\n",
       "      <td>25</td>\n",
       "      <td>21.966154</td>\n",
       "    </tr>\n",
       "    <tr>\n",
       "      <th>1</th>\n",
       "      <td>English</td>\n",
       "      <td>English</td>\n",
       "      <td>100</td>\n",
       "      <td>25</td>\n",
       "      <td>20.638307</td>\n",
       "    </tr>\n",
       "    <tr>\n",
       "      <th>2</th>\n",
       "      <td>Science</td>\n",
       "      <td>Science</td>\n",
       "      <td>100</td>\n",
       "      <td>25</td>\n",
       "      <td>23.344244</td>\n",
       "    </tr>\n",
       "    <tr>\n",
       "      <th>3</th>\n",
       "      <td>Marketing</td>\n",
       "      <td>Marketing</td>\n",
       "      <td>100</td>\n",
       "      <td>25</td>\n",
       "      <td>22.021939</td>\n",
       "    </tr>\n",
       "    <tr>\n",
       "      <th>4</th>\n",
       "      <td>Writing</td>\n",
       "      <td>Writing</td>\n",
       "      <td>100</td>\n",
       "      <td>25</td>\n",
       "      <td>21.772637</td>\n",
       "    </tr>\n",
       "  </tbody>\n",
       "</table>\n",
       "</div>"
      ],
      "text/plain": [
       "       index       name  Score_max  Score_min  Score_std\n",
       "0       Math       Math        100         25  21.966154\n",
       "1    English    English        100         25  20.638307\n",
       "2    Science    Science        100         25  23.344244\n",
       "3  Marketing  Marketing        100         25  22.021939\n",
       "4    Writing    Writing        100         25  21.772637"
      ]
     },
     "execution_count": 69,
     "metadata": {},
     "output_type": "execute_result"
    }
   ],
   "source": [
    "score_stat = score_stat.reset_index()\n",
    "score_stat"
   ]
  },
  {
   "cell_type": "markdown",
   "metadata": {},
   "source": [
    "### Q13. score_stat 객체를 \"score_stat.csv\"로 저장하시오."
   ]
  },
  {
   "cell_type": "code",
   "execution_count": 70,
   "metadata": {},
   "outputs": [],
   "source": [
    "score_stat.to_csv(\"score_stat.csv\")"
   ]
  },
  {
   "cell_type": "code",
   "execution_count": null,
   "metadata": {},
   "outputs": [],
   "source": []
  }
 ],
 "metadata": {
  "kernelspec": {
   "display_name": "Python 3",
   "language": "python",
   "name": "python3"
  },
  "language_info": {
   "codemirror_mode": {
    "name": "ipython",
    "version": 3
   },
   "file_extension": ".py",
   "mimetype": "text/x-python",
   "name": "python",
   "nbconvert_exporter": "python",
   "pygments_lexer": "ipython3",
   "version": "3.8.10"
  }
 },
 "nbformat": 4,
 "nbformat_minor": 2
}
