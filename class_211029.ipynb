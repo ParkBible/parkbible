{
 "cells": [
  {
   "cell_type": "markdown",
   "id": "8bcd9cec",
   "metadata": {},
   "source": [
    "### Q1. Sepal.Lenght를 종속변수로 Sepal.Width를 독립변수로 하여 단순선형회귀분석을 실시하시오.\n",
    "단 변수명때문에 에러가 나는 경우 변수명을 임의로 변경하고 실시하시오."
   ]
  },
  {
   "cell_type": "code",
   "execution_count": 63,
   "id": "f4bec330",
   "metadata": {},
   "outputs": [
    {
     "data": {
      "text/html": [
       "<div>\n",
       "<style scoped>\n",
       "    .dataframe tbody tr th:only-of-type {\n",
       "        vertical-align: middle;\n",
       "    }\n",
       "\n",
       "    .dataframe tbody tr th {\n",
       "        vertical-align: top;\n",
       "    }\n",
       "\n",
       "    .dataframe thead th {\n",
       "        text-align: right;\n",
       "    }\n",
       "</style>\n",
       "<table border=\"1\" class=\"dataframe\">\n",
       "  <thead>\n",
       "    <tr style=\"text-align: right;\">\n",
       "      <th></th>\n",
       "      <th>Sepal.Length</th>\n",
       "      <th>Sepal.Width</th>\n",
       "      <th>Petal.Length</th>\n",
       "      <th>Petal.Width</th>\n",
       "      <th>Species</th>\n",
       "    </tr>\n",
       "  </thead>\n",
       "  <tbody>\n",
       "    <tr>\n",
       "      <th>0</th>\n",
       "      <td>5.1</td>\n",
       "      <td>3.5</td>\n",
       "      <td>1.4</td>\n",
       "      <td>0.2</td>\n",
       "      <td>setosa</td>\n",
       "    </tr>\n",
       "    <tr>\n",
       "      <th>1</th>\n",
       "      <td>4.9</td>\n",
       "      <td>3.0</td>\n",
       "      <td>1.4</td>\n",
       "      <td>0.2</td>\n",
       "      <td>setosa</td>\n",
       "    </tr>\n",
       "  </tbody>\n",
       "</table>\n",
       "</div>"
      ],
      "text/plain": [
       "   Sepal.Length  Sepal.Width  Petal.Length  Petal.Width Species\n",
       "0           5.1          3.5           1.4          0.2  setosa\n",
       "1           4.9          3.0           1.4          0.2  setosa"
      ]
     },
     "execution_count": 63,
     "metadata": {},
     "output_type": "execute_result"
    }
   ],
   "source": [
    "import pandas as pd\n",
    "from statsmodels.formula.api import ols \n",
    "iris = pd.read_excel(\"DS_lv1/iris_xlsx.xlsx\")\n",
    "iris.head(2)"
   ]
  },
  {
   "cell_type": "code",
   "execution_count": 64,
   "id": "a5bcf31c",
   "metadata": {},
   "outputs": [],
   "source": [
    "# 이름 안바꾸면 오류뜸.\n",
    "iris = iris.rename(columns = {\"Sepal.Length\" : \"SL\" , \"Sepal.Width\" : \"SW\"})"
   ]
  },
  {
   "cell_type": "code",
   "execution_count": 65,
   "id": "9f91c920",
   "metadata": {},
   "outputs": [
    {
     "name": "stdout",
     "output_type": "stream",
     "text": [
      "                            OLS Regression Results                            \n",
      "==============================================================================\n",
      "Dep. Variable:                     SL   R-squared:                       0.014\n",
      "Model:                            OLS   Adj. R-squared:                  0.007\n",
      "Method:                 Least Squares   F-statistic:                     2.074\n",
      "Date:                Fri, 29 Oct 2021   Prob (F-statistic):              0.152\n",
      "Time:                        10:36:07   Log-Likelihood:                -183.00\n",
      "No. Observations:                 150   AIC:                             370.0\n",
      "Df Residuals:                     148   BIC:                             376.0\n",
      "Df Model:                           1                                         \n",
      "Covariance Type:            nonrobust                                         \n",
      "==============================================================================\n",
      "                 coef    std err          t      P>|t|      [0.025      0.975]\n",
      "------------------------------------------------------------------------------\n",
      "Intercept      6.5262      0.479     13.628      0.000       5.580       7.473\n",
      "SW            -0.2234      0.155     -1.440      0.152      -0.530       0.083\n",
      "==============================================================================\n",
      "Omnibus:                        4.389   Durbin-Watson:                   0.952\n",
      "Prob(Omnibus):                  0.111   Jarque-Bera (JB):                4.237\n",
      "Skew:                           0.360   Prob(JB):                        0.120\n",
      "Kurtosis:                       2.600   Cond. No.                         24.2\n",
      "==============================================================================\n",
      "\n",
      "Notes:\n",
      "[1] Standard Errors assume that the covariance matrix of the errors is correctly specified.\n"
     ]
    }
   ],
   "source": [
    "model = ols(\"SL ~ SW\", data = iris).fit()\n",
    "print(model.summary())"
   ]
  },
  {
   "cell_type": "markdown",
   "id": "ac91d627",
   "metadata": {},
   "source": [
    "### Q2. 1번의 회귀분석 결과에서 모델의 선형성 검정 결과 p-value를 확인하시오."
   ]
  },
  {
   "cell_type": "code",
   "execution_count": 66,
   "id": "ac7d6c93",
   "metadata": {},
   "outputs": [
    {
     "data": {
      "text/plain": [
       "0.15189826071144713"
      ]
     },
     "execution_count": 66,
     "metadata": {},
     "output_type": "execute_result"
    }
   ],
   "source": [
    "# p_value : 검정통계량에 대한 확률\n",
    "model.f_pvalue"
   ]
  },
  {
   "cell_type": "markdown",
   "id": "cf60c8db",
   "metadata": {},
   "source": [
    "### Q3. 1번의 회귀분석 결과에서 회귀식을 확인하고 이를 기술하시오"
   ]
  },
  {
   "cell_type": "code",
   "execution_count": 85,
   "id": "7ee88058",
   "metadata": {},
   "outputs": [
    {
     "name": "stdout",
     "output_type": "stream",
     "text": [
      "Intercept    1.083558\n",
      "PW           2.229940\n",
      "dtype: float64\n"
     ]
    }
   ],
   "source": [
    "print(model.params)  # y = -1.083558x + 2.229940"
   ]
  },
  {
   "cell_type": "markdown",
   "id": "ac95936e",
   "metadata": {},
   "source": [
    "### Q4. Petal.Length를 종속변수로 하고, Petal.Width를 독립변수로 하여 그 결과를 확인하시오."
   ]
  },
  {
   "cell_type": "code",
   "execution_count": 86,
   "id": "904b7657",
   "metadata": {},
   "outputs": [],
   "source": [
    "iris = iris.rename(columns = {\"Petal.Length\" : \"PL\" , \"Petal.Width\" : \"PW\"})"
   ]
  },
  {
   "cell_type": "code",
   "execution_count": 88,
   "id": "82a241f4",
   "metadata": {},
   "outputs": [
    {
     "name": "stdout",
     "output_type": "stream",
     "text": [
      "                            OLS Regression Results                            \n",
      "==============================================================================\n",
      "Dep. Variable:                     PL   R-squared:                       0.927\n",
      "Model:                            OLS   Adj. R-squared:                  0.927\n",
      "Method:                 Least Squares   F-statistic:                     1882.\n",
      "Date:                Fri, 29 Oct 2021   Prob (F-statistic):           4.68e-86\n",
      "Time:                        10:56:51   Log-Likelihood:                -101.18\n",
      "No. Observations:                 150   AIC:                             206.4\n",
      "Df Residuals:                     148   BIC:                             212.4\n",
      "Df Model:                           1                                         \n",
      "Covariance Type:            nonrobust                                         \n",
      "==============================================================================\n",
      "                 coef    std err          t      P>|t|      [0.025      0.975]\n",
      "------------------------------------------------------------------------------\n",
      "Intercept      1.0836      0.073     14.850      0.000       0.939       1.228\n",
      "PW             2.2299      0.051     43.387      0.000       2.128       2.332\n",
      "==============================================================================\n",
      "Omnibus:                        2.438   Durbin-Watson:                   1.430\n",
      "Prob(Omnibus):                  0.295   Jarque-Bera (JB):                1.966\n",
      "Skew:                           0.211   Prob(JB):                        0.374\n",
      "Kurtosis:                       3.369   Cond. No.                         3.70\n",
      "==============================================================================\n",
      "\n",
      "Notes:\n",
      "[1] Standard Errors assume that the covariance matrix of the errors is correctly specified.\n"
     ]
    }
   ],
   "source": [
    "# 회귀 모형 적합시키기\n",
    "model = ols(\"PL ~ PW\", data = iris).fit()\n",
    "\n",
    "# 상세한 통계량 제공\n",
    "print(model.summary())"
   ]
  },
  {
   "cell_type": "code",
   "execution_count": 89,
   "id": "da334a38",
   "metadata": {},
   "outputs": [
    {
     "data": {
      "text/html": [
       "<div>\n",
       "<style scoped>\n",
       "    .dataframe tbody tr th:only-of-type {\n",
       "        vertical-align: middle;\n",
       "    }\n",
       "\n",
       "    .dataframe tbody tr th {\n",
       "        vertical-align: top;\n",
       "    }\n",
       "\n",
       "    .dataframe thead th {\n",
       "        text-align: right;\n",
       "    }\n",
       "</style>\n",
       "<table border=\"1\" class=\"dataframe\">\n",
       "  <thead>\n",
       "    <tr style=\"text-align: right;\">\n",
       "      <th></th>\n",
       "      <th>SL</th>\n",
       "      <th>SW</th>\n",
       "      <th>PL</th>\n",
       "      <th>PW</th>\n",
       "      <th>Species</th>\n",
       "    </tr>\n",
       "  </thead>\n",
       "  <tbody>\n",
       "    <tr>\n",
       "      <th>0</th>\n",
       "      <td>5.1</td>\n",
       "      <td>3.5</td>\n",
       "      <td>1.4</td>\n",
       "      <td>0.2</td>\n",
       "      <td>setosa</td>\n",
       "    </tr>\n",
       "    <tr>\n",
       "      <th>1</th>\n",
       "      <td>4.9</td>\n",
       "      <td>3.0</td>\n",
       "      <td>1.4</td>\n",
       "      <td>0.2</td>\n",
       "      <td>setosa</td>\n",
       "    </tr>\n",
       "  </tbody>\n",
       "</table>\n",
       "</div>"
      ],
      "text/plain": [
       "    SL   SW   PL   PW Species\n",
       "0  5.1  3.5  1.4  0.2  setosa\n",
       "1  4.9  3.0  1.4  0.2  setosa"
      ]
     },
     "execution_count": 89,
     "metadata": {},
     "output_type": "execute_result"
    }
   ],
   "source": [
    "iris.head(2)"
   ]
  },
  {
   "cell_type": "code",
   "execution_count": 96,
   "id": "8f673938",
   "metadata": {},
   "outputs": [
    {
     "data": {
      "text/plain": [
       "0      1.529546\n",
       "1      1.529546\n",
       "2      1.529546\n",
       "3      1.529546\n",
       "4      1.529546\n",
       "         ...   \n",
       "145    6.212421\n",
       "146    5.320445\n",
       "147    5.543439\n",
       "148    6.212421\n",
       "149    5.097451\n",
       "Length: 150, dtype: float64"
      ]
     },
     "execution_count": 96,
     "metadata": {},
     "output_type": "execute_result"
    }
   ],
   "source": [
    "# 예측값.\n",
    "model.predict(iris)"
   ]
  },
  {
   "cell_type": "markdown",
   "id": "d0f403ff",
   "metadata": {},
   "source": [
    "### Q1. iris 데이터를 학습7, 평가3으로 분리하고 학습데이터를 활용하여 Petal.Length를 종속변수, Petal.Width를 독립변수로 지정하고 단순선형회귀분석을 실시하시오.\n",
    "random_state는 123으로 지정하시오. 선형회귀분석은 statsmodel의 함수를 사용하시오."
   ]
  },
  {
   "cell_type": "code",
   "execution_count": 72,
   "id": "27861288",
   "metadata": {},
   "outputs": [],
   "source": [
    "from sklearn.model_selection import train_test_split"
   ]
  },
  {
   "cell_type": "code",
   "execution_count": 189,
   "id": "9c9a322c",
   "metadata": {},
   "outputs": [
    {
     "name": "stdout",
     "output_type": "stream",
     "text": [
      "105\n",
      "45\n"
     ]
    },
    {
     "data": {
      "text/html": [
       "<div>\n",
       "<style scoped>\n",
       "    .dataframe tbody tr th:only-of-type {\n",
       "        vertical-align: middle;\n",
       "    }\n",
       "\n",
       "    .dataframe tbody tr th {\n",
       "        vertical-align: top;\n",
       "    }\n",
       "\n",
       "    .dataframe thead th {\n",
       "        text-align: right;\n",
       "    }\n",
       "</style>\n",
       "<table border=\"1\" class=\"dataframe\">\n",
       "  <thead>\n",
       "    <tr style=\"text-align: right;\">\n",
       "      <th></th>\n",
       "      <th>SL</th>\n",
       "      <th>SW</th>\n",
       "      <th>PL</th>\n",
       "      <th>PW</th>\n",
       "      <th>Species</th>\n",
       "    </tr>\n",
       "  </thead>\n",
       "  <tbody>\n",
       "    <tr>\n",
       "      <th>114</th>\n",
       "      <td>5.8</td>\n",
       "      <td>2.8</td>\n",
       "      <td>5.1</td>\n",
       "      <td>2.4</td>\n",
       "      <td>virginica</td>\n",
       "    </tr>\n",
       "  </tbody>\n",
       "</table>\n",
       "</div>"
      ],
      "text/plain": [
       "      SL   SW   PL   PW    Species\n",
       "114  5.8  2.8  5.1  2.4  virginica"
      ]
     },
     "execution_count": 189,
     "metadata": {},
     "output_type": "execute_result"
    }
   ],
   "source": [
    "iris_train, iris_test = train_test_split(iris, train_size = 0.7,\n",
    "                                        random_state = 123)  # 샘플링 결과 고정\n",
    "print(len(iris_train))\n",
    "print(len(iris_test))\n",
    "iris_train.head(1)"
   ]
  },
  {
   "cell_type": "code",
   "execution_count": 190,
   "id": "ba150074",
   "metadata": {},
   "outputs": [
    {
     "data": {
      "text/plain": [
       "Intercept    1.083558\n",
       "PW           2.229940\n",
       "dtype: float64"
      ]
     },
     "execution_count": 190,
     "metadata": {},
     "output_type": "execute_result"
    }
   ],
   "source": [
    "model = ols(\"PL ~ PW\", data = iris).fit()\n",
    "model.params"
   ]
  },
  {
   "cell_type": "markdown",
   "id": "062ac0b5",
   "metadata": {},
   "source": [
    "### Q2. 1번의 모델에서 회귀계수를 반올림하여 소수점 첫째 자리까지 출력하시오."
   ]
  },
  {
   "cell_type": "code",
   "execution_count": 191,
   "id": "267165ac",
   "metadata": {},
   "outputs": [
    {
     "data": {
      "text/plain": [
       "2.2"
      ]
     },
     "execution_count": 191,
     "metadata": {},
     "output_type": "execute_result"
    }
   ],
   "source": [
    "round(model.params[1],1)"
   ]
  },
  {
   "cell_type": "markdown",
   "id": "4c157928",
   "metadata": {},
   "source": [
    "### Q3. 평가데이터를 사용하여 예측값을 산출하시오."
   ]
  },
  {
   "cell_type": "code",
   "execution_count": 192,
   "id": "25a42fe3",
   "metadata": {},
   "outputs": [
    {
     "data": {
      "text/plain": [
       "72     4.428469\n",
       "112    5.766433\n",
       "132    5.989427\n",
       "88     3.982481\n",
       "dtype: float64"
      ]
     },
     "execution_count": 192,
     "metadata": {},
     "output_type": "execute_result"
    }
   ],
   "source": [
    "pred = model.predict(iris_test)\n",
    "pred[:4]"
   ]
  },
  {
   "cell_type": "markdown",
   "id": "a20be0a4",
   "metadata": {},
   "source": [
    "### Q4. 3번의 결과를 사용하여 RMSE를 계산하시오."
   ]
  },
  {
   "cell_type": "code",
   "execution_count": 77,
   "id": "0d900501",
   "metadata": {},
   "outputs": [
    {
     "data": {
      "text/plain": [
       "0.449693013497934"
      ]
     },
     "execution_count": 77,
     "metadata": {},
     "output_type": "execute_result"
    }
   ],
   "source": [
    "from sklearn.metrics import mean_squared_error\n",
    "\n",
    "mean_squared_error(y_true = iris_test[\"PL\"], y_pred = pred)**0.5"
   ]
  },
  {
   "cell_type": "markdown",
   "id": "82becda8",
   "metadata": {},
   "source": [
    "### Q5. Petal.Width가 3.12인 경우 Petal.Length는 값이 어떠한가?"
   ]
  },
  {
   "cell_type": "code",
   "execution_count": 78,
   "id": "c9a8b317",
   "metadata": {},
   "outputs": [
    {
     "data": {
      "text/plain": [
       "0    8.040972\n",
       "dtype: float64"
      ]
     },
     "execution_count": 78,
     "metadata": {},
     "output_type": "execute_result"
    }
   ],
   "source": [
    "model.predict(pd.DataFrame({\"PW\" : [3.12]}))"
   ]
  },
  {
   "cell_type": "code",
   "execution_count": 79,
   "id": "a414590f",
   "metadata": {},
   "outputs": [],
   "source": [
    "from sklearn.linear_model import LinearRegression\n",
    "# LinearRegression이랑 statsmodel 둘다 알고있어야 한다."
   ]
  },
  {
   "cell_type": "code",
   "execution_count": 80,
   "id": "e1c9c5e2",
   "metadata": {},
   "outputs": [],
   "source": [
    " model_sk = LinearRegression().fit(X = iris[[\"PL\"]],\n",
    "                                  y = iris[[\"PW\"]])"
   ]
  },
  {
   "cell_type": "code",
   "execution_count": 81,
   "id": "b58701f9",
   "metadata": {},
   "outputs": [
    {
     "data": {
      "text/plain": [
       "array([[0.41575542]])"
      ]
     },
     "execution_count": 81,
     "metadata": {},
     "output_type": "execute_result"
    }
   ],
   "source": [
    "# 상관계수 \n",
    "model_sk.coef_"
   ]
  },
  {
   "cell_type": "code",
   "execution_count": 82,
   "id": "1a561360",
   "metadata": {},
   "outputs": [
    {
     "data": {
      "text/plain": [
       "array([-0.36307552])"
      ]
     },
     "execution_count": 82,
     "metadata": {},
     "output_type": "execute_result"
    }
   ],
   "source": [
    "# y절편\n",
    "model_sk.intercept_"
   ]
  },
  {
   "cell_type": "code",
   "execution_count": 83,
   "id": "8414086f",
   "metadata": {},
   "outputs": [
    {
     "data": {
      "text/plain": [
       "array([[0.21898206],\n",
       "       [0.21898206],\n",
       "       [0.17740652],\n",
       "       [0.2605576 ]])"
      ]
     },
     "execution_count": 83,
     "metadata": {},
     "output_type": "execute_result"
    }
   ],
   "source": [
    "model_sk.predict(iris.loc[:3, [\"PL\"]])"
   ]
  },
  {
   "cell_type": "markdown",
   "id": "2b3fc4e7",
   "metadata": {},
   "source": [
    "### Q1. bike 객체를 train 8, test 2로 분리하여 각각 bike_train, bike_test 객체에 저장하고 각 객체의 row 개수를 출력하시오\n",
    "seed는 246으로 한다."
   ]
  },
  {
   "cell_type": "code",
   "execution_count": 121,
   "id": "65377af0",
   "metadata": {},
   "outputs": [
    {
     "data": {
      "text/html": [
       "<div>\n",
       "<style scoped>\n",
       "    .dataframe tbody tr th:only-of-type {\n",
       "        vertical-align: middle;\n",
       "    }\n",
       "\n",
       "    .dataframe tbody tr th {\n",
       "        vertical-align: top;\n",
       "    }\n",
       "\n",
       "    .dataframe thead th {\n",
       "        text-align: right;\n",
       "    }\n",
       "</style>\n",
       "<table border=\"1\" class=\"dataframe\">\n",
       "  <thead>\n",
       "    <tr style=\"text-align: right;\">\n",
       "      <th></th>\n",
       "      <th>datetime</th>\n",
       "      <th>season</th>\n",
       "      <th>holiday</th>\n",
       "      <th>workingday</th>\n",
       "      <th>weather</th>\n",
       "      <th>temp</th>\n",
       "      <th>atemp</th>\n",
       "      <th>humidity</th>\n",
       "      <th>windspeed</th>\n",
       "      <th>casual</th>\n",
       "      <th>registered</th>\n",
       "      <th>count</th>\n",
       "    </tr>\n",
       "  </thead>\n",
       "  <tbody>\n",
       "    <tr>\n",
       "      <th>0</th>\n",
       "      <td>2011-01-01 00:00:00</td>\n",
       "      <td>1</td>\n",
       "      <td>0</td>\n",
       "      <td>0</td>\n",
       "      <td>1</td>\n",
       "      <td>9.84</td>\n",
       "      <td>14.395</td>\n",
       "      <td>81</td>\n",
       "      <td>0.0</td>\n",
       "      <td>3</td>\n",
       "      <td>13</td>\n",
       "      <td>16</td>\n",
       "    </tr>\n",
       "    <tr>\n",
       "      <th>1</th>\n",
       "      <td>2011-01-01 01:00:00</td>\n",
       "      <td>1</td>\n",
       "      <td>0</td>\n",
       "      <td>0</td>\n",
       "      <td>1</td>\n",
       "      <td>9.02</td>\n",
       "      <td>13.635</td>\n",
       "      <td>80</td>\n",
       "      <td>0.0</td>\n",
       "      <td>8</td>\n",
       "      <td>32</td>\n",
       "      <td>40</td>\n",
       "    </tr>\n",
       "  </tbody>\n",
       "</table>\n",
       "</div>"
      ],
      "text/plain": [
       "              datetime  season  holiday  workingday  weather  temp   atemp  \\\n",
       "0  2011-01-01 00:00:00       1        0           0        1  9.84  14.395   \n",
       "1  2011-01-01 01:00:00       1        0           0        1  9.02  13.635   \n",
       "\n",
       "   humidity  windspeed  casual  registered  count  \n",
       "0        81        0.0       3          13     16  \n",
       "1        80        0.0       8          32     40  "
      ]
     },
     "execution_count": 121,
     "metadata": {},
     "output_type": "execute_result"
    }
   ],
   "source": [
    "bike = pd.read_csv(\"DS_lv1/bike.csv\")\n",
    "bike.head(2)"
   ]
  },
  {
   "cell_type": "code",
   "execution_count": 148,
   "id": "20a3808d",
   "metadata": {},
   "outputs": [
    {
     "data": {
      "text/html": [
       "<div>\n",
       "<style scoped>\n",
       "    .dataframe tbody tr th:only-of-type {\n",
       "        vertical-align: middle;\n",
       "    }\n",
       "\n",
       "    .dataframe tbody tr th {\n",
       "        vertical-align: top;\n",
       "    }\n",
       "\n",
       "    .dataframe thead th {\n",
       "        text-align: right;\n",
       "    }\n",
       "</style>\n",
       "<table border=\"1\" class=\"dataframe\">\n",
       "  <thead>\n",
       "    <tr style=\"text-align: right;\">\n",
       "      <th></th>\n",
       "      <th>datetime</th>\n",
       "      <th>season</th>\n",
       "      <th>holiday</th>\n",
       "      <th>workingday</th>\n",
       "      <th>weather</th>\n",
       "      <th>temp</th>\n",
       "      <th>atemp</th>\n",
       "      <th>humidity</th>\n",
       "      <th>windspeed</th>\n",
       "      <th>casual</th>\n",
       "      <th>registered</th>\n",
       "      <th>count</th>\n",
       "      <th>is_wend</th>\n",
       "    </tr>\n",
       "  </thead>\n",
       "  <tbody>\n",
       "    <tr>\n",
       "      <th>0</th>\n",
       "      <td>2011-01-01 00:00:00</td>\n",
       "      <td>1</td>\n",
       "      <td>0</td>\n",
       "      <td>0</td>\n",
       "      <td>1</td>\n",
       "      <td>9.84</td>\n",
       "      <td>14.395</td>\n",
       "      <td>81</td>\n",
       "      <td>0.0</td>\n",
       "      <td>3</td>\n",
       "      <td>13</td>\n",
       "      <td>16</td>\n",
       "      <td>1</td>\n",
       "    </tr>\n",
       "    <tr>\n",
       "      <th>1</th>\n",
       "      <td>2011-01-01 01:00:00</td>\n",
       "      <td>1</td>\n",
       "      <td>0</td>\n",
       "      <td>0</td>\n",
       "      <td>1</td>\n",
       "      <td>9.02</td>\n",
       "      <td>13.635</td>\n",
       "      <td>80</td>\n",
       "      <td>0.0</td>\n",
       "      <td>8</td>\n",
       "      <td>32</td>\n",
       "      <td>40</td>\n",
       "      <td>1</td>\n",
       "    </tr>\n",
       "  </tbody>\n",
       "</table>\n",
       "</div>"
      ],
      "text/plain": [
       "             datetime  season  holiday  workingday  weather  temp   atemp  \\\n",
       "0 2011-01-01 00:00:00       1        0           0        1  9.84  14.395   \n",
       "1 2011-01-01 01:00:00       1        0           0        1  9.02  13.635   \n",
       "\n",
       "   humidity  windspeed  casual  registered  count  is_wend  \n",
       "0        81        0.0       3          13     16        1  \n",
       "1        80        0.0       8          32     40        1  "
      ]
     },
     "execution_count": 148,
     "metadata": {},
     "output_type": "execute_result"
    }
   ],
   "source": [
    "bike_train = bike_train.reset_index(drop = True)\n",
    "bike[\"datetime\"] = pd.to_datetime(bike[\"datetime\"])\n",
    "bike[\"is_wend\"] = (bike[\"datetime\"].dt.weekday >= 5) + 0\n",
    "bike.head(2)"
   ]
  },
  {
   "cell_type": "code",
   "execution_count": 149,
   "id": "57a0ec3a",
   "metadata": {},
   "outputs": [
    {
     "name": "stdout",
     "output_type": "stream",
     "text": [
      "8708\n",
      "2178\n"
     ]
    }
   ],
   "source": [
    "bike_train, bike_test = train_test_split(bike, train_size = 0.8,\n",
    "                                        random_state = 246)  # 샘플링 결과 고정\n",
    "print(len(bike_train))\n",
    "print(len(bike_test))"
   ]
  },
  {
   "cell_type": "markdown",
   "id": "5bdedae0",
   "metadata": {},
   "source": [
    "### Q2. registered를 종속변수로 하고 주말여부, weather, temp, windspeed 변수를 독립변수로 하여 bike_train으로 학습한 다중선형회귀모델의 결정계수를 반올림하여 소수점 둘째 자리까지 출력하시오.\n",
    "주말여부 변수는 is_wend로 생성하고 datetime 변수를 활용하여 가공하시오. statsmodels 라이브러리의 함수를 사용하여 회귀분석\n",
    "\n",
    "(변수를 전부 생성한다음 train, test로 쪼개는게 낫다)"
   ]
  },
  {
   "cell_type": "code",
   "execution_count": 150,
   "id": "08f391ba",
   "metadata": {},
   "outputs": [],
   "source": [
    "from statsmodels.formula.api import ols"
   ]
  },
  {
   "cell_type": "code",
   "execution_count": 151,
   "id": "c853904b",
   "metadata": {},
   "outputs": [
    {
     "name": "stdout",
     "output_type": "stream",
     "text": [
      "                            OLS Regression Results                            \n",
      "==============================================================================\n",
      "Dep. Variable:             registered   R-squared:                       0.131\n",
      "Model:                            OLS   Adj. R-squared:                  0.131\n",
      "Method:                 Least Squares   F-statistic:                     328.8\n",
      "Date:                Fri, 29 Oct 2021   Prob (F-statistic):          5.77e-264\n",
      "Time:                        11:39:43   Log-Likelihood:                -55423.\n",
      "No. Observations:                8708   AIC:                         1.109e+05\n",
      "Df Residuals:                    8703   BIC:                         1.109e+05\n",
      "Df Model:                           4                                         \n",
      "Covariance Type:            nonrobust                                         \n",
      "==============================================================================\n",
      "                 coef    std err          t      P>|t|      [0.025      0.975]\n",
      "------------------------------------------------------------------------------\n",
      "Intercept     53.4339      6.158      8.678      0.000      41.364      65.504\n",
      "is_wend      -35.2054      3.337    -10.549      0.000     -41.747     -28.664\n",
      "weather      -23.0506      2.383     -9.674      0.000     -27.721     -18.380\n",
      "temp           6.0615      0.194     31.287      0.000       5.682       6.441\n",
      "windspeed      1.7532      0.185      9.481      0.000       1.391       2.116\n",
      "==============================================================================\n",
      "Omnibus:                     2238.527   Durbin-Watson:                   2.009\n",
      "Prob(Omnibus):                  0.000   Jarque-Bera (JB):             5404.979\n",
      "Skew:                           1.427   Prob(JB):                         0.00\n",
      "Kurtosis:                       5.599   Cond. No.                         107.\n",
      "==============================================================================\n",
      "\n",
      "Notes:\n",
      "[1] Standard Errors assume that the covariance matrix of the errors is correctly specified.\n"
     ]
    }
   ],
   "source": [
    "model = ols(formula = \"registered ~ is_wend + weather + temp + windspeed\", data = bike_train).fit()\n",
    "print(model.summary())"
   ]
  },
  {
   "cell_type": "code",
   "execution_count": 152,
   "id": "78177d09",
   "metadata": {},
   "outputs": [
    {
     "data": {
      "text/plain": [
       "0.13"
      ]
     },
     "execution_count": 152,
     "metadata": {},
     "output_type": "execute_result"
    }
   ],
   "source": [
    "round(model.rsquared,2)"
   ]
  },
  {
   "cell_type": "code",
   "execution_count": 153,
   "id": "a98e2c78",
   "metadata": {},
   "outputs": [
    {
     "data": {
      "text/plain": [
       "hour\n",
       "0    44.826374\n",
       "1    27.345815\n",
       "2    18.080357\n",
       "3     9.076212\n",
       "4     5.144796\n",
       "Name: registered, dtype: float64"
      ]
     },
     "execution_count": 153,
     "metadata": {},
     "output_type": "execute_result"
    }
   ],
   "source": [
    "bike[\"datetime\"] = pd.to_datetime(bike[\"datetime\"])\n",
    "bike[\"hour\"] = bike[\"datetime\"].dt.hour\n",
    "bike_agg = bike.groupby(\"hour\")[\"registered\"].mean()\n",
    "bike_agg.head()"
   ]
  },
  {
   "cell_type": "code",
   "execution_count": 154,
   "id": "bd183a42",
   "metadata": {},
   "outputs": [
    {
     "data": {
      "text/plain": [
       "<AxesSubplot:xlabel='hour'>"
      ]
     },
     "execution_count": 154,
     "metadata": {},
     "output_type": "execute_result"
    },
    {
     "data": {
      "image/png": "[encoded data removed]",
      "text/plain": [
       "<Figure size 432x288 with 1 Axes>"
      ]
     },
     "metadata": {
      "needs_background": "light"
     },
     "output_type": "display_data"
    }
   ],
   "source": [
    "bike_agg.plot(kind = \"bar\")"
   ]
  },
  {
   "cell_type": "markdown",
   "id": "a5b017dc",
   "metadata": {},
   "source": [
    "### Q1. casual 변수의 시간대별 평균값을 막대그래프로 그리시오."
   ]
  },
  {
   "cell_type": "code",
   "execution_count": 156,
   "id": "fdf4d29c",
   "metadata": {},
   "outputs": [
    {
     "data": {
      "text/plain": [
       "<AxesSubplot:xlabel='hour'>"
      ]
     },
     "execution_count": 156,
     "metadata": {},
     "output_type": "execute_result"
    },
    {
     "data": {
      "image/png": "[encoded data removed]",
      "text/plain": [
       "<Figure size 432x288 with 1 Axes>"
      ]
     },
     "metadata": {
      "needs_background": "light"
     },
     "output_type": "display_data"
    }
   ],
   "source": [
    "bike_agg2 = bike.groupby(\"hour\")[\"casual\"].mean()\n",
    "bike_agg2.plot(kind = \"bar\")"
   ]
  },
  {
   "cell_type": "markdown",
   "id": "760b49ce",
   "metadata": {},
   "source": [
    "### Q2. registered 요일별 평균값을 막대그래프로 그리시오."
   ]
  },
  {
   "cell_type": "code",
   "execution_count": 157,
   "id": "88564dfc",
   "metadata": {},
   "outputs": [
    {
     "data": {
      "text/html": [
       "<div>\n",
       "<style scoped>\n",
       "    .dataframe tbody tr th:only-of-type {\n",
       "        vertical-align: middle;\n",
       "    }\n",
       "\n",
       "    .dataframe tbody tr th {\n",
       "        vertical-align: top;\n",
       "    }\n",
       "\n",
       "    .dataframe thead th {\n",
       "        text-align: right;\n",
       "    }\n",
       "</style>\n",
       "<table border=\"1\" class=\"dataframe\">\n",
       "  <thead>\n",
       "    <tr style=\"text-align: right;\">\n",
       "      <th></th>\n",
       "      <th>datetime</th>\n",
       "      <th>season</th>\n",
       "      <th>holiday</th>\n",
       "      <th>workingday</th>\n",
       "      <th>weather</th>\n",
       "      <th>temp</th>\n",
       "      <th>atemp</th>\n",
       "      <th>humidity</th>\n",
       "      <th>windspeed</th>\n",
       "      <th>casual</th>\n",
       "      <th>registered</th>\n",
       "      <th>count</th>\n",
       "      <th>is_wend</th>\n",
       "      <th>hour</th>\n",
       "      <th>weekday</th>\n",
       "    </tr>\n",
       "  </thead>\n",
       "  <tbody>\n",
       "    <tr>\n",
       "      <th>0</th>\n",
       "      <td>2011-01-01 00:00:00</td>\n",
       "      <td>1</td>\n",
       "      <td>0</td>\n",
       "      <td>0</td>\n",
       "      <td>1</td>\n",
       "      <td>9.84</td>\n",
       "      <td>14.395</td>\n",
       "      <td>81</td>\n",
       "      <td>0.0</td>\n",
       "      <td>3</td>\n",
       "      <td>13</td>\n",
       "      <td>16</td>\n",
       "      <td>1</td>\n",
       "      <td>0</td>\n",
       "      <td>5</td>\n",
       "    </tr>\n",
       "    <tr>\n",
       "      <th>1</th>\n",
       "      <td>2011-01-01 01:00:00</td>\n",
       "      <td>1</td>\n",
       "      <td>0</td>\n",
       "      <td>0</td>\n",
       "      <td>1</td>\n",
       "      <td>9.02</td>\n",
       "      <td>13.635</td>\n",
       "      <td>80</td>\n",
       "      <td>0.0</td>\n",
       "      <td>8</td>\n",
       "      <td>32</td>\n",
       "      <td>40</td>\n",
       "      <td>1</td>\n",
       "      <td>1</td>\n",
       "      <td>5</td>\n",
       "    </tr>\n",
       "  </tbody>\n",
       "</table>\n",
       "</div>"
      ],
      "text/plain": [
       "             datetime  season  holiday  workingday  weather  temp   atemp  \\\n",
       "0 2011-01-01 00:00:00       1        0           0        1  9.84  14.395   \n",
       "1 2011-01-01 01:00:00       1        0           0        1  9.02  13.635   \n",
       "\n",
       "   humidity  windspeed  casual  registered  count  is_wend  hour  weekday  \n",
       "0        81        0.0       3          13     16        1     0        5  \n",
       "1        80        0.0       8          32     40        1     1        5  "
      ]
     },
     "execution_count": 157,
     "metadata": {},
     "output_type": "execute_result"
    }
   ],
   "source": [
    "bike[\"weekday\"] = bike[\"datetime\"].dt.weekday\n",
    "bike.head(2)"
   ]
  },
  {
   "cell_type": "code",
   "execution_count": 158,
   "id": "425d10e5",
   "metadata": {},
   "outputs": [
    {
     "data": {
      "text/plain": [
       "<AxesSubplot:xlabel='weekday'>"
      ]
     },
     "execution_count": 158,
     "metadata": {},
     "output_type": "execute_result"
    },
    {
     "data": {
      "image/png": "[encoded data removed]",
      "text/plain": [
       "<Figure size 432x288 with 1 Axes>"
      ]
     },
     "metadata": {
      "needs_background": "light"
     },
     "output_type": "display_data"
    }
   ],
   "source": [
    "bike_agg3 = bike.groupby(\"weekday\")[\"registered\"].mean()\n",
    "bike_agg3.plot(kind = \"bar\")"
   ]
  },
  {
   "cell_type": "markdown",
   "id": "5ae6b33d",
   "metadata": {},
   "source": [
    "### Q3. casual 변수의 요일별 평균값을 막대그래프로 그리시오."
   ]
  },
  {
   "cell_type": "code",
   "execution_count": 159,
   "id": "e346f7a3",
   "metadata": {},
   "outputs": [
    {
     "data": {
      "text/plain": [
       "<AxesSubplot:xlabel='weekday'>"
      ]
     },
     "execution_count": 159,
     "metadata": {},
     "output_type": "execute_result"
    },
    {
     "data": {
      "image/png": "[encoded data removed]",
      "text/plain": [
       "<Figure size 432x288 with 1 Axes>"
      ]
     },
     "metadata": {
      "needs_background": "light"
     },
     "output_type": "display_data"
    }
   ],
   "source": [
    "bike_agg4 = bike.groupby(\"weekday\")[\"casual\"].mean()\n",
    "bike_agg4.plot(kind = \"bar\")"
   ]
  },
  {
   "cell_type": "code",
   "execution_count": 212,
   "id": "00e68f4d",
   "metadata": {},
   "outputs": [
    {
     "data": {
      "text/html": [
       "<div>\n",
       "<style scoped>\n",
       "    .dataframe tbody tr th:only-of-type {\n",
       "        vertical-align: middle;\n",
       "    }\n",
       "\n",
       "    .dataframe tbody tr th {\n",
       "        vertical-align: top;\n",
       "    }\n",
       "\n",
       "    .dataframe thead th {\n",
       "        text-align: right;\n",
       "    }\n",
       "</style>\n",
       "<table border=\"1\" class=\"dataframe\">\n",
       "  <thead>\n",
       "    <tr style=\"text-align: right;\">\n",
       "      <th></th>\n",
       "      <th>carat</th>\n",
       "      <th>cut</th>\n",
       "      <th>color</th>\n",
       "      <th>clarity</th>\n",
       "      <th>depth</th>\n",
       "      <th>table</th>\n",
       "      <th>price</th>\n",
       "      <th>x</th>\n",
       "      <th>y</th>\n",
       "      <th>z</th>\n",
       "    </tr>\n",
       "  </thead>\n",
       "  <tbody>\n",
       "    <tr>\n",
       "      <th>0</th>\n",
       "      <td>0.23</td>\n",
       "      <td>Ideal</td>\n",
       "      <td>E</td>\n",
       "      <td>SI2</td>\n",
       "      <td>61.5</td>\n",
       "      <td>55.0</td>\n",
       "      <td>326</td>\n",
       "      <td>3.95</td>\n",
       "      <td>3.98</td>\n",
       "      <td>2.43</td>\n",
       "    </tr>\n",
       "    <tr>\n",
       "      <th>1</th>\n",
       "      <td>0.21</td>\n",
       "      <td>Premium</td>\n",
       "      <td>E</td>\n",
       "      <td>SI1</td>\n",
       "      <td>59.8</td>\n",
       "      <td>61.0</td>\n",
       "      <td>326</td>\n",
       "      <td>3.89</td>\n",
       "      <td>3.84</td>\n",
       "      <td>2.31</td>\n",
       "    </tr>\n",
       "    <tr>\n",
       "      <th>2</th>\n",
       "      <td>0.23</td>\n",
       "      <td>Good</td>\n",
       "      <td>E</td>\n",
       "      <td>VS1</td>\n",
       "      <td>56.9</td>\n",
       "      <td>65.0</td>\n",
       "      <td>327</td>\n",
       "      <td>4.05</td>\n",
       "      <td>4.07</td>\n",
       "      <td>2.31</td>\n",
       "    </tr>\n",
       "    <tr>\n",
       "      <th>3</th>\n",
       "      <td>0.29</td>\n",
       "      <td>Premium</td>\n",
       "      <td>I</td>\n",
       "      <td>VS2</td>\n",
       "      <td>62.4</td>\n",
       "      <td>58.0</td>\n",
       "      <td>334</td>\n",
       "      <td>4.20</td>\n",
       "      <td>4.23</td>\n",
       "      <td>2.63</td>\n",
       "    </tr>\n",
       "    <tr>\n",
       "      <th>4</th>\n",
       "      <td>0.31</td>\n",
       "      <td>Good</td>\n",
       "      <td>J</td>\n",
       "      <td>SI2</td>\n",
       "      <td>63.3</td>\n",
       "      <td>58.0</td>\n",
       "      <td>335</td>\n",
       "      <td>4.34</td>\n",
       "      <td>4.35</td>\n",
       "      <td>2.75</td>\n",
       "    </tr>\n",
       "  </tbody>\n",
       "</table>\n",
       "</div>"
      ],
      "text/plain": [
       "   carat      cut color clarity  depth  table  price     x     y     z\n",
       "0   0.23    Ideal     E     SI2   61.5   55.0    326  3.95  3.98  2.43\n",
       "1   0.21  Premium     E     SI1   59.8   61.0    326  3.89  3.84  2.31\n",
       "2   0.23     Good     E     VS1   56.9   65.0    327  4.05  4.07  2.31\n",
       "3   0.29  Premium     I     VS2   62.4   58.0    334  4.20  4.23  2.63\n",
       "4   0.31     Good     J     SI2   63.3   58.0    335  4.34  4.35  2.75"
      ]
     },
     "execution_count": 212,
     "metadata": {},
     "output_type": "execute_result"
    }
   ],
   "source": [
    "dia = pd.read_csv(\"DS_lv1/diamonds.csv\")\n",
    "dia.head(5)"
   ]
  },
  {
   "cell_type": "code",
   "execution_count": 161,
   "id": "b672d568",
   "metadata": {},
   "outputs": [
    {
     "data": {
      "text/html": [
       "<div>\n",
       "<style scoped>\n",
       "    .dataframe tbody tr th:only-of-type {\n",
       "        vertical-align: middle;\n",
       "    }\n",
       "\n",
       "    .dataframe tbody tr th {\n",
       "        vertical-align: top;\n",
       "    }\n",
       "\n",
       "    .dataframe thead th {\n",
       "        text-align: right;\n",
       "    }\n",
       "</style>\n",
       "<table border=\"1\" class=\"dataframe\">\n",
       "  <thead>\n",
       "    <tr style=\"text-align: right;\">\n",
       "      <th></th>\n",
       "      <th>carat</th>\n",
       "      <th>color</th>\n",
       "      <th>clarity</th>\n",
       "      <th>depth</th>\n",
       "      <th>table</th>\n",
       "      <th>price</th>\n",
       "      <th>x</th>\n",
       "      <th>y</th>\n",
       "      <th>z</th>\n",
       "      <th>cut_Fair</th>\n",
       "      <th>cut_Good</th>\n",
       "      <th>cut_Ideal</th>\n",
       "      <th>cut_Premium</th>\n",
       "      <th>cut_Very Good</th>\n",
       "    </tr>\n",
       "  </thead>\n",
       "  <tbody>\n",
       "    <tr>\n",
       "      <th>0</th>\n",
       "      <td>0.23</td>\n",
       "      <td>E</td>\n",
       "      <td>SI2</td>\n",
       "      <td>61.5</td>\n",
       "      <td>55.0</td>\n",
       "      <td>326</td>\n",
       "      <td>3.95</td>\n",
       "      <td>3.98</td>\n",
       "      <td>2.43</td>\n",
       "      <td>0</td>\n",
       "      <td>0</td>\n",
       "      <td>1</td>\n",
       "      <td>0</td>\n",
       "      <td>0</td>\n",
       "    </tr>\n",
       "  </tbody>\n",
       "</table>\n",
       "</div>"
      ],
      "text/plain": [
       "   carat color clarity  depth  table  price     x     y     z  cut_Fair  \\\n",
       "0   0.23     E     SI2   61.5   55.0    326  3.95  3.98  2.43         0   \n",
       "\n",
       "   cut_Good  cut_Ideal  cut_Premium  cut_Very Good  \n",
       "0         0          1            0              0  "
      ]
     },
     "execution_count": 161,
     "metadata": {},
     "output_type": "execute_result"
    }
   ],
   "source": [
    "# one-hot encoding\n",
    "# \"cut\" 칼럼을 원핫인코딩한다\n",
    "dia_dum1 = pd.get_dummies(data = dia, columns = [\"cut\"])\n",
    "dia_dum1.head(1)"
   ]
  },
  {
   "cell_type": "code",
   "execution_count": 163,
   "id": "5258c7fc",
   "metadata": {},
   "outputs": [
    {
     "data": {
      "text/html": [
       "<div>\n",
       "<style scoped>\n",
       "    .dataframe tbody tr th:only-of-type {\n",
       "        vertical-align: middle;\n",
       "    }\n",
       "\n",
       "    .dataframe tbody tr th {\n",
       "        vertical-align: top;\n",
       "    }\n",
       "\n",
       "    .dataframe thead th {\n",
       "        text-align: right;\n",
       "    }\n",
       "</style>\n",
       "<table border=\"1\" class=\"dataframe\">\n",
       "  <thead>\n",
       "    <tr style=\"text-align: right;\">\n",
       "      <th></th>\n",
       "      <th>carat</th>\n",
       "      <th>color</th>\n",
       "      <th>clarity</th>\n",
       "      <th>depth</th>\n",
       "      <th>table</th>\n",
       "      <th>price</th>\n",
       "      <th>x</th>\n",
       "      <th>y</th>\n",
       "      <th>z</th>\n",
       "      <th>cut_Good</th>\n",
       "      <th>cut_Ideal</th>\n",
       "      <th>cut_Premium</th>\n",
       "      <th>cut_Very Good</th>\n",
       "    </tr>\n",
       "  </thead>\n",
       "  <tbody>\n",
       "    <tr>\n",
       "      <th>0</th>\n",
       "      <td>0.23</td>\n",
       "      <td>E</td>\n",
       "      <td>SI2</td>\n",
       "      <td>61.5</td>\n",
       "      <td>55.0</td>\n",
       "      <td>326</td>\n",
       "      <td>3.95</td>\n",
       "      <td>3.98</td>\n",
       "      <td>2.43</td>\n",
       "      <td>0</td>\n",
       "      <td>1</td>\n",
       "      <td>0</td>\n",
       "      <td>0</td>\n",
       "    </tr>\n",
       "  </tbody>\n",
       "</table>\n",
       "</div>"
      ],
      "text/plain": [
       "   carat color clarity  depth  table  price     x     y     z  cut_Good  \\\n",
       "0   0.23     E     SI2   61.5   55.0    326  3.95  3.98  2.43         0   \n",
       "\n",
       "   cut_Ideal  cut_Premium  cut_Very Good  \n",
       "0          1            0              0  "
      ]
     },
     "execution_count": 163,
     "metadata": {},
     "output_type": "execute_result"
    }
   ],
   "source": [
    "dia_dum2 = pd.get_dummies(data = dia, columns = [\"cut\"],\n",
    "                         drop_first = True)\n",
    "dia_dum2.head(1)"
   ]
  },
  {
   "cell_type": "code",
   "execution_count": 164,
   "id": "9051134b",
   "metadata": {},
   "outputs": [
    {
     "data": {
      "text/plain": [
       "Index(['carat', 'color', 'clarity', 'depth', 'table', 'price', 'x', 'y', 'z',\n",
       "       'cut_Fair', 'cut_Good', 'cut_Ideal', 'cut_Premium', 'cut_Very Good'],\n",
       "      dtype='object')"
      ]
     },
     "execution_count": 164,
     "metadata": {},
     "output_type": "execute_result"
    }
   ],
   "source": [
    "dia_dum1.columns"
   ]
  },
  {
   "cell_type": "code",
   "execution_count": 165,
   "id": "5a98eb41",
   "metadata": {},
   "outputs": [
    {
     "data": {
      "text/html": [
       "<div>\n",
       "<style scoped>\n",
       "    .dataframe tbody tr th:only-of-type {\n",
       "        vertical-align: middle;\n",
       "    }\n",
       "\n",
       "    .dataframe tbody tr th {\n",
       "        vertical-align: top;\n",
       "    }\n",
       "\n",
       "    .dataframe thead th {\n",
       "        text-align: right;\n",
       "    }\n",
       "</style>\n",
       "<table border=\"1\" class=\"dataframe\">\n",
       "  <thead>\n",
       "    <tr style=\"text-align: right;\">\n",
       "      <th></th>\n",
       "      <th>carat</th>\n",
       "      <th>color</th>\n",
       "      <th>clarity</th>\n",
       "      <th>depth</th>\n",
       "      <th>table</th>\n",
       "      <th>price</th>\n",
       "      <th>x</th>\n",
       "      <th>y</th>\n",
       "      <th>z</th>\n",
       "      <th>cut_Good</th>\n",
       "      <th>cut_Ideal</th>\n",
       "      <th>cut_Premium</th>\n",
       "      <th>cut_Very Good</th>\n",
       "    </tr>\n",
       "  </thead>\n",
       "  <tbody>\n",
       "    <tr>\n",
       "      <th>0</th>\n",
       "      <td>0.23</td>\n",
       "      <td>E</td>\n",
       "      <td>SI2</td>\n",
       "      <td>61.5</td>\n",
       "      <td>55.0</td>\n",
       "      <td>326</td>\n",
       "      <td>3.95</td>\n",
       "      <td>3.98</td>\n",
       "      <td>2.43</td>\n",
       "      <td>0</td>\n",
       "      <td>1</td>\n",
       "      <td>0</td>\n",
       "      <td>0</td>\n",
       "    </tr>\n",
       "  </tbody>\n",
       "</table>\n",
       "</div>"
      ],
      "text/plain": [
       "   carat color clarity  depth  table  price     x     y     z  cut_Good  \\\n",
       "0   0.23     E     SI2   61.5   55.0    326  3.95  3.98  2.43         0   \n",
       "\n",
       "   cut_Ideal  cut_Premium  cut_Very Good  \n",
       "0          1            0              0  "
      ]
     },
     "execution_count": 165,
     "metadata": {},
     "output_type": "execute_result"
    }
   ],
   "source": [
    "dia_dum2 = pd.get_dummies(data = dia, columns = [\"cut\"],\n",
    "                         drop_first = True)\n",
    "dia_dum2.head(1)"
   ]
  },
  {
   "cell_type": "code",
   "execution_count": 168,
   "id": "cf3ece7b",
   "metadata": {},
   "outputs": [
    {
     "data": {
      "text/plain": [
       "'price ~ carat + cut + color + clarity'"
      ]
     },
     "execution_count": 168,
     "metadata": {},
     "output_type": "execute_result"
    }
   ],
   "source": [
    "# 여러개 지정하는 방법\n",
    "\"price ~ \" + \" + \".join(dia.columns[:4])"
   ]
  },
  {
   "cell_type": "markdown",
   "id": "96d72198",
   "metadata": {},
   "source": [
    "### Q. dia 객체를 학습 8, 평가 2로 분리하고 학습데이터 세트를 기준으로 다중선형회귀 분석을 실시하시오. 그리고 회귀모델의 결정계수를 반올림하여 소수점 둘째 자리까지 기술하시오.\n",
    "종속변수는 price, 독립변수는 color, carat으로 지정하시오. <br>\n",
    "명목형 변수는 원핫인코딩을 실시하고 첫번째 더미 변수는 제거하시오. <br>\n",
    "데이터 세트 분리시 seed는 234로 지정하시오. <br>"
   ]
  },
  {
   "cell_type": "code",
   "execution_count": 196,
   "id": "5b066bdc",
   "metadata": {},
   "outputs": [
    {
     "name": "stdout",
     "output_type": "stream",
     "text": [
      "43152\n",
      "10788\n"
     ]
    }
   ],
   "source": [
    "dia_train, dia_test = train_test_split(dia, train_size = 0.8,\n",
    "                                        random_state = 234)  # 샘플링 결과 고정\n",
    "print(len(dia_train))\n",
    "print(len(dia_test))"
   ]
  },
  {
   "cell_type": "code",
   "execution_count": 213,
   "id": "3f4c20f2",
   "metadata": {},
   "outputs": [
    {
     "data": {
      "text/html": [
       "<div>\n",
       "<style scoped>\n",
       "    .dataframe tbody tr th:only-of-type {\n",
       "        vertical-align: middle;\n",
       "    }\n",
       "\n",
       "    .dataframe tbody tr th {\n",
       "        vertical-align: top;\n",
       "    }\n",
       "\n",
       "    .dataframe thead th {\n",
       "        text-align: right;\n",
       "    }\n",
       "</style>\n",
       "<table border=\"1\" class=\"dataframe\">\n",
       "  <thead>\n",
       "    <tr style=\"text-align: right;\">\n",
       "      <th></th>\n",
       "      <th>carat</th>\n",
       "      <th>cut</th>\n",
       "      <th>color</th>\n",
       "      <th>clarity</th>\n",
       "      <th>depth</th>\n",
       "      <th>table</th>\n",
       "      <th>price</th>\n",
       "      <th>x</th>\n",
       "      <th>y</th>\n",
       "      <th>z</th>\n",
       "    </tr>\n",
       "  </thead>\n",
       "  <tbody>\n",
       "    <tr>\n",
       "      <th>21619</th>\n",
       "      <td>1.12</td>\n",
       "      <td>Ideal</td>\n",
       "      <td>E</td>\n",
       "      <td>VS2</td>\n",
       "      <td>61.9</td>\n",
       "      <td>56.0</td>\n",
       "      <td>9710</td>\n",
       "      <td>6.65</td>\n",
       "      <td>6.68</td>\n",
       "      <td>4.13</td>\n",
       "    </tr>\n",
       "  </tbody>\n",
       "</table>\n",
       "</div>"
      ],
      "text/plain": [
       "       carat    cut color clarity  depth  table  price     x     y     z\n",
       "21619   1.12  Ideal     E     VS2   61.9   56.0   9710  6.65  6.68  4.13"
      ]
     },
     "execution_count": 213,
     "metadata": {},
     "output_type": "execute_result"
    }
   ],
   "source": [
    "dia_train.head(1)"
   ]
  },
  {
   "cell_type": "code",
   "execution_count": 197,
   "id": "090daab0",
   "metadata": {},
   "outputs": [],
   "source": [
    "model = ols(formula = \"price ~ color + carat\", data = dia_train).fit()"
   ]
  },
  {
   "cell_type": "code",
   "execution_count": 198,
   "id": "720c947c",
   "metadata": {},
   "outputs": [
    {
     "data": {
      "text/plain": [
       "0.86"
      ]
     },
     "execution_count": 198,
     "metadata": {},
     "output_type": "execute_result"
    }
   ],
   "source": [
    "round(model.rsquared,2)"
   ]
  },
  {
   "cell_type": "code",
   "execution_count": 214,
   "id": "d6d9b7bd",
   "metadata": {},
   "outputs": [],
   "source": [
    "dia_dum = pd.get_dummies(data = dia, columns = [\"cut\", \"color\", \"clarity\"])"
   ]
  },
  {
   "cell_type": "code",
   "execution_count": 216,
   "id": "9ec2761b",
   "metadata": {},
   "outputs": [
    {
     "data": {
      "text/html": [
       "<div>\n",
       "<style scoped>\n",
       "    .dataframe tbody tr th:only-of-type {\n",
       "        vertical-align: middle;\n",
       "    }\n",
       "\n",
       "    .dataframe tbody tr th {\n",
       "        vertical-align: top;\n",
       "    }\n",
       "\n",
       "    .dataframe thead th {\n",
       "        text-align: right;\n",
       "    }\n",
       "</style>\n",
       "<table border=\"1\" class=\"dataframe\">\n",
       "  <thead>\n",
       "    <tr style=\"text-align: right;\">\n",
       "      <th></th>\n",
       "      <th>carat</th>\n",
       "      <th>depth</th>\n",
       "      <th>table</th>\n",
       "      <th>price</th>\n",
       "      <th>x</th>\n",
       "      <th>y</th>\n",
       "      <th>z</th>\n",
       "      <th>cut_Fair</th>\n",
       "      <th>cut_Good</th>\n",
       "      <th>cut_Ideal</th>\n",
       "      <th>...</th>\n",
       "      <th>color_I</th>\n",
       "      <th>color_J</th>\n",
       "      <th>clarity_I1</th>\n",
       "      <th>clarity_IF</th>\n",
       "      <th>clarity_SI1</th>\n",
       "      <th>clarity_SI2</th>\n",
       "      <th>clarity_VS1</th>\n",
       "      <th>clarity_VS2</th>\n",
       "      <th>clarity_VVS1</th>\n",
       "      <th>clarity_VVS2</th>\n",
       "    </tr>\n",
       "  </thead>\n",
       "  <tbody>\n",
       "    <tr>\n",
       "      <th>0</th>\n",
       "      <td>0.23</td>\n",
       "      <td>61.5</td>\n",
       "      <td>55.0</td>\n",
       "      <td>326</td>\n",
       "      <td>3.95</td>\n",
       "      <td>3.98</td>\n",
       "      <td>2.43</td>\n",
       "      <td>0</td>\n",
       "      <td>0</td>\n",
       "      <td>1</td>\n",
       "      <td>...</td>\n",
       "      <td>0</td>\n",
       "      <td>0</td>\n",
       "      <td>0</td>\n",
       "      <td>0</td>\n",
       "      <td>0</td>\n",
       "      <td>1</td>\n",
       "      <td>0</td>\n",
       "      <td>0</td>\n",
       "      <td>0</td>\n",
       "      <td>0</td>\n",
       "    </tr>\n",
       "  </tbody>\n",
       "</table>\n",
       "<p>1 rows × 27 columns</p>\n",
       "</div>"
      ],
      "text/plain": [
       "   carat  depth  table  price     x     y     z  cut_Fair  cut_Good  \\\n",
       "0   0.23   61.5   55.0    326  3.95  3.98  2.43         0         0   \n",
       "\n",
       "   cut_Ideal  ...  color_I  color_J  clarity_I1  clarity_IF  clarity_SI1  \\\n",
       "0          1  ...        0        0           0           0            0   \n",
       "\n",
       "   clarity_SI2  clarity_VS1  clarity_VS2  clarity_VVS1  clarity_VVS2  \n",
       "0            1            0            0             0             0  \n",
       "\n",
       "[1 rows x 27 columns]"
      ]
     },
     "execution_count": 216,
     "metadata": {},
     "output_type": "execute_result"
    }
   ],
   "source": [
    "dia_dum.head(1)"
   ]
  },
  {
   "cell_type": "markdown",
   "id": "a0d9f7de",
   "metadata": {},
   "source": [
    "### Q2. 1번에서 생성한 모델을 기준으로 평가 데이터세트를 활용하여 예측값을 생산하고 MAE를 계산하시오.\n",
    "단, 결과값은 반올림하여 소수점 셋째 자리까지 출력하시오."
   ]
  },
  {
   "cell_type": "code",
   "execution_count": 202,
   "id": "adbc7166",
   "metadata": {},
   "outputs": [],
   "source": [
    "pred = round(model.predict(dia_test))"
   ]
  },
  {
   "cell_type": "code",
   "execution_count": 203,
   "id": "f19b785b",
   "metadata": {},
   "outputs": [],
   "source": [
    "# 끝에 as mae 로 해줘도 된다\n",
    "from sklearn.metrics import mean_absolute_error"
   ]
  },
  {
   "cell_type": "code",
   "execution_count": 204,
   "id": "005d4b52",
   "metadata": {},
   "outputs": [
    {
     "data": {
      "text/plain": [
       "9832      4672\n",
       "7384       579\n",
       "27825      650\n",
       "42669     1334\n",
       "18151     7356\n",
       "         ...  \n",
       "24097    12247\n",
       "14816     5967\n",
       "27673    18691\n",
       "3071      3312\n",
       "27442    18069\n",
       "Name: price, Length: 10788, dtype: int64"
      ]
     },
     "execution_count": 204,
     "metadata": {},
     "output_type": "execute_result"
    }
   ],
   "source": [
    "dia_test[\"price\"]"
   ]
  },
  {
   "cell_type": "code",
   "execution_count": 217,
   "id": "751ed664",
   "metadata": {},
   "outputs": [
    {
     "data": {
      "text/plain": [
       "979.726"
      ]
     },
     "execution_count": 217,
     "metadata": {},
     "output_type": "execute_result"
    }
   ],
   "source": [
    "round(mean_absolute_error(y_true = dia_test[\"price\"], y_pred = pred),3)"
   ]
  },
  {
   "cell_type": "markdown",
   "id": "1de5a4d5",
   "metadata": {},
   "source": [
    "### Q3. 색상이 J이면서 1캐럿인 다이아몬드의 가격은 얼마인가?\n",
    "1번에서 생성한 모델을 기준으로 연산하시오."
   ]
  },
  {
   "cell_type": "code",
   "execution_count": 206,
   "id": "742f5fb2",
   "metadata": {},
   "outputs": [
    {
     "data": {
      "text/plain": [
       "0    4006.026615\n",
       "dtype: float64"
      ]
     },
     "execution_count": 206,
     "metadata": {},
     "output_type": "execute_result"
    }
   ],
   "source": [
    "model.predict(pd.DataFrame({\"color\" : [\"J\"],\n",
    "                           \"carat\" : [1]}))"
   ]
  },
  {
   "cell_type": "code",
   "execution_count": 218,
   "id": "7d5c9f07",
   "metadata": {},
   "outputs": [
    {
     "data": {
      "text/html": [
       "<div>\n",
       "<style scoped>\n",
       "    .dataframe tbody tr th:only-of-type {\n",
       "        vertical-align: middle;\n",
       "    }\n",
       "\n",
       "    .dataframe tbody tr th {\n",
       "        vertical-align: top;\n",
       "    }\n",
       "\n",
       "    .dataframe thead th {\n",
       "        text-align: right;\n",
       "    }\n",
       "</style>\n",
       "<table border=\"1\" class=\"dataframe\">\n",
       "  <thead>\n",
       "    <tr style=\"text-align: right;\">\n",
       "      <th></th>\n",
       "      <th>cut</th>\n",
       "      <th>color</th>\n",
       "      <th>clarity</th>\n",
       "      <th>depth</th>\n",
       "      <th>table</th>\n",
       "      <th>price</th>\n",
       "      <th>x</th>\n",
       "      <th>y</th>\n",
       "      <th>z</th>\n",
       "      <th>color_E</th>\n",
       "      <th>color_J</th>\n",
       "      <th>carat</th>\n",
       "    </tr>\n",
       "  </thead>\n",
       "  <tbody>\n",
       "    <tr>\n",
       "      <th>0</th>\n",
       "      <td>Ideal</td>\n",
       "      <td>E</td>\n",
       "      <td>VS2</td>\n",
       "      <td>61.9</td>\n",
       "      <td>56.0</td>\n",
       "      <td>9710</td>\n",
       "      <td>6.65</td>\n",
       "      <td>6.68</td>\n",
       "      <td>4.13</td>\n",
       "      <td>0</td>\n",
       "      <td>1</td>\n",
       "      <td>1</td>\n",
       "    </tr>\n",
       "  </tbody>\n",
       "</table>\n",
       "</div>"
      ],
      "text/plain": [
       "     cut color clarity  depth  table  price     x     y     z  color_E  \\\n",
       "0  Ideal     E     VS2   61.9   56.0   9710  6.65  6.68  4.13        0   \n",
       "\n",
       "   color_J  carat  \n",
       "0        1      1  "
      ]
     },
     "execution_count": 218,
     "metadata": {},
     "output_type": "execute_result"
    }
   ],
   "source": [
    "test_1row = dia_train.iloc[[0], 1:].reset_index(drop = True)\n",
    "test_1row[\"color_E\"] = 0\n",
    "test_1row[\"color_J\"] = 1\n",
    "test_1row[\"carat\"] = 1\n",
    "test_1row"
   ]
  },
  {
   "cell_type": "code",
   "execution_count": 219,
   "id": "fa300cd9",
   "metadata": {},
   "outputs": [],
   "source": [
    "# 승산비 계산하기\n",
    "from statsmodels.api import Logit"
   ]
  },
  {
   "cell_type": "code",
   "execution_count": 221,
   "id": "703e3aa9",
   "metadata": {},
   "outputs": [
    {
     "data": {
      "text/html": [
       "<div>\n",
       "<style scoped>\n",
       "    .dataframe tbody tr th:only-of-type {\n",
       "        vertical-align: middle;\n",
       "    }\n",
       "\n",
       "    .dataframe tbody tr th {\n",
       "        vertical-align: top;\n",
       "    }\n",
       "\n",
       "    .dataframe thead th {\n",
       "        text-align: right;\n",
       "    }\n",
       "</style>\n",
       "<table border=\"1\" class=\"dataframe\">\n",
       "  <thead>\n",
       "    <tr style=\"text-align: right;\">\n",
       "      <th></th>\n",
       "      <th>admit</th>\n",
       "      <th>gre</th>\n",
       "      <th>gpa</th>\n",
       "      <th>rank</th>\n",
       "    </tr>\n",
       "  </thead>\n",
       "  <tbody>\n",
       "    <tr>\n",
       "      <th>0</th>\n",
       "      <td>0</td>\n",
       "      <td>380</td>\n",
       "      <td>3.61</td>\n",
       "      <td>3</td>\n",
       "    </tr>\n",
       "    <tr>\n",
       "      <th>1</th>\n",
       "      <td>1</td>\n",
       "      <td>660</td>\n",
       "      <td>3.67</td>\n",
       "      <td>3</td>\n",
       "    </tr>\n",
       "  </tbody>\n",
       "</table>\n",
       "</div>"
      ],
      "text/plain": [
       "   admit  gre   gpa  rank\n",
       "0      0  380  3.61     3\n",
       "1      1  660  3.67     3"
      ]
     },
     "execution_count": 221,
     "metadata": {},
     "output_type": "execute_result"
    }
   ],
   "source": [
    "df = pd.read_csv(\"DS_lv1/logistic_regression_01.csv\")\n",
    "df.head(2)"
   ]
  },
  {
   "cell_type": "code",
   "execution_count": 223,
   "id": "b37a7a63",
   "metadata": {},
   "outputs": [
    {
     "name": "stdout",
     "output_type": "stream",
     "text": [
      "Optimization terminated successfully.\n",
      "         Current function value: 0.586372\n",
      "         Iterations 5\n"
     ]
    }
   ],
   "source": [
    "model = Logit(endog = df[[\"admit\"]], exog = df.drop(\"admit\", axis=1)).fit()"
   ]
  },
  {
   "cell_type": "code",
   "execution_count": 224,
   "id": "9658f064",
   "metadata": {},
   "outputs": [
    {
     "data": {
      "text/html": [
       "<table class=\"simpletable\">\n",
       "<caption>Logit Regression Results</caption>\n",
       "<tr>\n",
       "  <th>Dep. Variable:</th>         <td>admit</td>      <th>  No. Observations:  </th>  <td>   400</td>  \n",
       "</tr>\n",
       "<tr>\n",
       "  <th>Model:</th>                 <td>Logit</td>      <th>  Df Residuals:      </th>  <td>   397</td>  \n",
       "</tr>\n",
       "<tr>\n",
       "  <th>Method:</th>                 <td>MLE</td>       <th>  Df Model:          </th>  <td>     2</td>  \n",
       "</tr>\n",
       "<tr>\n",
       "  <th>Date:</th>            <td>Fri, 29 Oct 2021</td> <th>  Pseudo R-squ.:     </th>  <td>0.06176</td> \n",
       "</tr>\n",
       "<tr>\n",
       "  <th>Time:</th>                <td>15:43:38</td>     <th>  Log-Likelihood:    </th> <td> -234.55</td> \n",
       "</tr>\n",
       "<tr>\n",
       "  <th>converged:</th>             <td>True</td>       <th>  LL-Null:           </th> <td> -249.99</td> \n",
       "</tr>\n",
       "<tr>\n",
       "  <th>Covariance Type:</th>     <td>nonrobust</td>    <th>  LLR p-value:       </th> <td>1.971e-07</td>\n",
       "</tr>\n",
       "</table>\n",
       "<table class=\"simpletable\">\n",
       "<tr>\n",
       "    <td></td>      <th>coef</th>     <th>std err</th>      <th>z</th>      <th>P>|z|</th>  <th>[0.025</th>    <th>0.975]</th>  \n",
       "</tr>\n",
       "<tr>\n",
       "  <th>gre</th>  <td>    0.0015</td> <td>    0.001</td> <td>    1.420</td> <td> 0.155</td> <td>   -0.001</td> <td>    0.004</td>\n",
       "</tr>\n",
       "<tr>\n",
       "  <th>gpa</th>  <td>   -0.0042</td> <td>    0.201</td> <td>   -0.021</td> <td> 0.983</td> <td>   -0.398</td> <td>    0.390</td>\n",
       "</tr>\n",
       "<tr>\n",
       "  <th>rank</th> <td>   -0.6695</td> <td>    0.121</td> <td>   -5.527</td> <td> 0.000</td> <td>   -0.907</td> <td>   -0.432</td>\n",
       "</tr>\n",
       "</table>"
      ],
      "text/plain": [
       "<class 'statsmodels.iolib.summary.Summary'>\n",
       "\"\"\"\n",
       "                           Logit Regression Results                           \n",
       "==============================================================================\n",
       "Dep. Variable:                  admit   No. Observations:                  400\n",
       "Model:                          Logit   Df Residuals:                      397\n",
       "Method:                           MLE   Df Model:                            2\n",
       "Date:                Fri, 29 Oct 2021   Pseudo R-squ.:                 0.06176\n",
       "Time:                        15:43:38   Log-Likelihood:                -234.55\n",
       "converged:                       True   LL-Null:                       -249.99\n",
       "Covariance Type:            nonrobust   LLR p-value:                 1.971e-07\n",
       "==============================================================================\n",
       "                 coef    std err          z      P>|z|      [0.025      0.975]\n",
       "------------------------------------------------------------------------------\n",
       "gre            0.0015      0.001      1.420      0.155      -0.001       0.004\n",
       "gpa           -0.0042      0.201     -0.021      0.983      -0.398       0.390\n",
       "rank          -0.6695      0.121     -5.527      0.000      -0.907      -0.432\n",
       "==============================================================================\n",
       "\"\"\""
      ]
     },
     "execution_count": 224,
     "metadata": {},
     "output_type": "execute_result"
    }
   ],
   "source": [
    "model.summary()"
   ]
  },
  {
   "cell_type": "code",
   "execution_count": 225,
   "id": "e26d3d8f",
   "metadata": {},
   "outputs": [],
   "source": [
    "import numpy as np"
   ]
  },
  {
   "cell_type": "code",
   "execution_count": 226,
   "id": "e589f6dc",
   "metadata": {},
   "outputs": [
    {
     "data": {
      "text/plain": [
       "gre     0.001477\n",
       "gpa    -0.004167\n",
       "rank   -0.669538\n",
       "dtype: float64"
      ]
     },
     "execution_count": 226,
     "metadata": {},
     "output_type": "execute_result"
    }
   ],
   "source": [
    "model.params"
   ]
  },
  {
   "cell_type": "code",
   "execution_count": 227,
   "id": "9a0d958e",
   "metadata": {},
   "outputs": [
    {
     "data": {
      "text/plain": [
       "gre     1.001478\n",
       "gpa     0.995842\n",
       "rank    0.511945\n",
       "dtype: float64"
      ]
     },
     "execution_count": 227,
     "metadata": {},
     "output_type": "execute_result"
    }
   ],
   "source": [
    "np.exp(model.params) # 승산비(Odds Ratio)"
   ]
  },
  {
   "cell_type": "markdown",
   "id": "3a094795",
   "metadata": {},
   "source": [
    "### Q. 다음 classification_data_01.csv 파일의 데이터를 사용하여 분석을 실시하시오."
   ]
  },
  {
   "cell_type": "code",
   "execution_count": 229,
   "id": "66105d1f",
   "metadata": {},
   "outputs": [
    {
     "data": {
      "text/html": [
       "<div>\n",
       "<style scoped>\n",
       "    .dataframe tbody tr th:only-of-type {\n",
       "        vertical-align: middle;\n",
       "    }\n",
       "\n",
       "    .dataframe tbody tr th {\n",
       "        vertical-align: top;\n",
       "    }\n",
       "\n",
       "    .dataframe thead th {\n",
       "        text-align: right;\n",
       "    }\n",
       "</style>\n",
       "<table border=\"1\" class=\"dataframe\">\n",
       "  <thead>\n",
       "    <tr style=\"text-align: right;\">\n",
       "      <th></th>\n",
       "      <th>Variance</th>\n",
       "      <th>Skewness</th>\n",
       "      <th>Curtosis</th>\n",
       "      <th>Entropy</th>\n",
       "      <th>Class</th>\n",
       "    </tr>\n",
       "  </thead>\n",
       "  <tbody>\n",
       "    <tr>\n",
       "      <th>0</th>\n",
       "      <td>3.6216</td>\n",
       "      <td>8.6661</td>\n",
       "      <td>-2.8073</td>\n",
       "      <td>-0.44699</td>\n",
       "      <td>0</td>\n",
       "    </tr>\n",
       "    <tr>\n",
       "      <th>1</th>\n",
       "      <td>4.5459</td>\n",
       "      <td>8.1674</td>\n",
       "      <td>-2.4586</td>\n",
       "      <td>-1.46210</td>\n",
       "      <td>0</td>\n",
       "    </tr>\n",
       "  </tbody>\n",
       "</table>\n",
       "</div>"
      ],
      "text/plain": [
       "   Variance  Skewness  Curtosis  Entropy  Class\n",
       "0    3.6216    8.6661   -2.8073 -0.44699      0\n",
       "1    4.5459    8.1674   -2.4586 -1.46210      0"
      ]
     },
     "execution_count": 229,
     "metadata": {},
     "output_type": "execute_result"
    }
   ],
   "source": [
    "df = pd.read_csv(\"DS_lv1/classification_data_01.csv\")\n",
    "df.head(2)"
   ]
  },
  {
   "cell_type": "markdown",
   "id": "064bdea7",
   "metadata": {},
   "source": [
    "### Q1. 학습과 평가를 7:3으로 분리하고 이항 로지스틱 회귀분석을 실시하고, 각 독립변수의 OR(Odds Ratio)를 계산하시오.\n",
    "statsmodels 라이브러리의 함수를 사용하시오. <br>\n",
    "seed는 567로 지정하시오. <br>\n",
    "결과값은 반올림하여 소수점 둘째 자리까지 표기하시오."
   ]
  },
  {
   "cell_type": "code",
   "execution_count": 231,
   "id": "7bf0db9e",
   "metadata": {},
   "outputs": [],
   "source": [
    "from statsmodels.api import Logit"
   ]
  },
  {
   "cell_type": "code",
   "execution_count": 230,
   "id": "02161526",
   "metadata": {},
   "outputs": [
    {
     "name": "stdout",
     "output_type": "stream",
     "text": [
      "960\n",
      "412\n"
     ]
    }
   ],
   "source": [
    "df_train, df_test = train_test_split(df, train_size = 0.7,\n",
    "                                        random_state = 567)  # 샘플링 결과 고정\n",
    "print(len(df_train))\n",
    "print(len(df_test))"
   ]
  },
  {
   "cell_type": "code",
   "execution_count": 239,
   "id": "c8620670",
   "metadata": {},
   "outputs": [
    {
     "name": "stdout",
     "output_type": "stream",
     "text": [
      "Optimization terminated successfully.\n",
      "         Current function value: 0.102186\n",
      "         Iterations 11\n"
     ]
    }
   ],
   "source": [
    "# endog : 종속변수\n",
    "model = Logit(endog = df_train[[\"Class\"]], exog = df_train.drop(\"Class\", axis=1)).fit()"
   ]
  },
  {
   "cell_type": "code",
   "execution_count": 248,
   "id": "c646faed",
   "metadata": {},
   "outputs": [
    {
     "data": {
      "text/plain": [
       "Variance    0.07\n",
       "Skewness    0.19\n",
       "Curtosis    0.17\n",
       "Entropy     0.43\n",
       "dtype: float64"
      ]
     },
     "execution_count": 248,
     "metadata": {},
     "output_type": "execute_result"
    }
   ],
   "source": [
    "round(np.exp(model.params), 2) # 승산비(Odds Ratio)"
   ]
  },
  {
   "cell_type": "markdown",
   "id": "b4fe37b0",
   "metadata": {},
   "source": [
    "### Q2. 평가 데이터세트로 1번에서 생성한 모델을 활용하여 예측값을 생산하시오. 이때 예측값 중 최대값과 최소값을 확인하시오."
   ]
  },
  {
   "cell_type": "code",
   "execution_count": 249,
   "id": "2a54b4ef",
   "metadata": {},
   "outputs": [],
   "source": [
    "# 독립변수만으로 예측값을 내야 한다. Class(종속변수)는 drop함. 안그러면 오류뜸!\n",
    "pred = model.predict(df_test.drop(\"Class\", axis = 1))"
   ]
  },
  {
   "cell_type": "code",
   "execution_count": 250,
   "id": "2fc8359b",
   "metadata": {},
   "outputs": [
    {
     "name": "stdout",
     "output_type": "stream",
     "text": [
      "8.466990097583408e-11\n",
      "0.9999912797481564\n"
     ]
    }
   ],
   "source": [
    "print(min(pred))\n",
    "print(max(pred))"
   ]
  },
  {
   "cell_type": "code",
   "execution_count": 257,
   "id": "3f60f886",
   "metadata": {},
   "outputs": [
    {
     "data": {
      "text/plain": [
       "340     0\n",
       "21      0\n",
       "1011    1\n",
       "1330    1\n",
       "dtype: int32"
      ]
     },
     "execution_count": 257,
     "metadata": {},
     "output_type": "execute_result"
    }
   ],
   "source": [
    "# 로지스틱 회귀분석은 분류방법이기 때문에 경계값이 필요함\n",
    "# 0.5가 넘는 값은 1, 아니면 0으로 만들어준다.\n",
    "pred_class = (pred > 0.5) + 0\n",
    "pred_class[:4]"
   ]
  },
  {
   "cell_type": "code",
   "execution_count": 252,
   "id": "c9228c9c",
   "metadata": {},
   "outputs": [],
   "source": [
    "from sklearn.metrics import accuracy_score\n",
    "from sklearn.metrics import f1_score"
   ]
  },
  {
   "cell_type": "code",
   "execution_count": 253,
   "id": "bce57171",
   "metadata": {},
   "outputs": [
    {
     "data": {
      "text/plain": [
       "0.9660194174757282"
      ]
     },
     "execution_count": 253,
     "metadata": {},
     "output_type": "execute_result"
    }
   ],
   "source": [
    "accuracy_score(y_true = df_test[\"Class\"], y_pred = pred_class)"
   ]
  },
  {
   "cell_type": "code",
   "execution_count": 254,
   "id": "e8ff51ab",
   "metadata": {},
   "outputs": [
    {
     "data": {
      "text/html": [
       "<div>\n",
       "<style scoped>\n",
       "    .dataframe tbody tr th:only-of-type {\n",
       "        vertical-align: middle;\n",
       "    }\n",
       "\n",
       "    .dataframe tbody tr th {\n",
       "        vertical-align: top;\n",
       "    }\n",
       "\n",
       "    .dataframe thead th {\n",
       "        text-align: right;\n",
       "    }\n",
       "</style>\n",
       "<table border=\"1\" class=\"dataframe\">\n",
       "  <thead>\n",
       "    <tr style=\"text-align: right;\">\n",
       "      <th>col_0</th>\n",
       "      <th>0</th>\n",
       "      <th>1</th>\n",
       "    </tr>\n",
       "    <tr>\n",
       "      <th>Class</th>\n",
       "      <th></th>\n",
       "      <th></th>\n",
       "    </tr>\n",
       "  </thead>\n",
       "  <tbody>\n",
       "    <tr>\n",
       "      <th>0</th>\n",
       "      <td>235</td>\n",
       "      <td>0</td>\n",
       "    </tr>\n",
       "    <tr>\n",
       "      <th>1</th>\n",
       "      <td>14</td>\n",
       "      <td>163</td>\n",
       "    </tr>\n",
       "  </tbody>\n",
       "</table>\n",
       "</div>"
      ],
      "text/plain": [
       "col_0    0    1\n",
       "Class          \n",
       "0      235    0\n",
       "1       14  163"
      ]
     },
     "execution_count": 254,
     "metadata": {},
     "output_type": "execute_result"
    }
   ],
   "source": [
    "pd.crosstab(df_test[\"Class\"], pred_class)"
   ]
  },
  {
   "cell_type": "code",
   "execution_count": 255,
   "id": "16ec3b55",
   "metadata": {},
   "outputs": [],
   "source": [
    "from sklearn.metrics import roc_auc_score"
   ]
  },
  {
   "cell_type": "code",
   "execution_count": 258,
   "id": "5d583507",
   "metadata": {},
   "outputs": [
    {
     "data": {
      "text/plain": [
       "0.9990143046039187"
      ]
     },
     "execution_count": 258,
     "metadata": {},
     "output_type": "execute_result"
    }
   ],
   "source": [
    "roc_auc_score(y_true = df_test[\"Class\"], y_score = pred) # 분류된 값이 아닌 확률값을 넣어야 함(pred_class 말고 pred)"
   ]
  },
  {
   "cell_type": "code",
   "execution_count": 259,
   "id": "8093c435",
   "metadata": {},
   "outputs": [],
   "source": [
    "# 의사결정나무\n",
    "\n",
    "from sklearn.tree import DecisionTreeClassifier\n",
    "from sklearn.tree import DecisionTreeRegressor"
   ]
  },
  {
   "cell_type": "code",
   "execution_count": 260,
   "id": "5adb5e12",
   "metadata": {},
   "outputs": [],
   "source": [
    "model_c = DecisionTreeClassifier(random_state = 123).fit(X = df.loc[:, :\"Entropy\"],\n",
    "                                                        y = df[[\"Class\"]])"
   ]
  },
  {
   "cell_type": "code",
   "execution_count": 261,
   "id": "d7699d1b",
   "metadata": {},
   "outputs": [
    {
     "data": {
      "text/plain": [
       "array([0, 0, 0, ..., 1, 1, 1], dtype=int64)"
      ]
     },
     "execution_count": 261,
     "metadata": {},
     "output_type": "execute_result"
    }
   ],
   "source": [
    "pred_class = model_c.predict(df.loc[:, :\"Entropy\"])\n",
    "pred_class"
   ]
  },
  {
   "cell_type": "code",
   "execution_count": 262,
   "id": "7e78bdd9",
   "metadata": {},
   "outputs": [
    {
     "data": {
      "text/plain": [
       "1.0"
      ]
     },
     "execution_count": 262,
     "metadata": {},
     "output_type": "execute_result"
    }
   ],
   "source": [
    "accuracy_score(y_true = df[\"Class\"], y_pred = pred_class)"
   ]
  },
  {
   "cell_type": "code",
   "execution_count": 263,
   "id": "a2e2e066",
   "metadata": {},
   "outputs": [],
   "source": [
    "df_train, df_test = train_test_split(df, train_size = 0.6, random_state = 999)"
   ]
  },
  {
   "cell_type": "code",
   "execution_count": 271,
   "id": "e057014c",
   "metadata": {},
   "outputs": [],
   "source": [
    "model_c = DecisionTreeClassifier(random_state = 999, max_depth = 2) # max_depth 안써주면 과적합\n",
    "model_c = model_c.fit(X = df_train.loc[:, :\"Entropy\"],\n",
    "                     y = df_train[[\"Class\"]])"
   ]
  },
  {
   "cell_type": "code",
   "execution_count": 272,
   "id": "aadec1f4",
   "metadata": {},
   "outputs": [
    {
     "data": {
      "text/plain": [
       "array([[0.71296296, 0.28703704],\n",
       "       [0.96944444, 0.03055556],\n",
       "       [0.96944444, 0.03055556],\n",
       "       ...,\n",
       "       [0.96944444, 0.03055556],\n",
       "       [0.96944444, 0.03055556],\n",
       "       [0.23076923, 0.76923077]])"
      ]
     },
     "execution_count": 272,
     "metadata": {},
     "output_type": "execute_result"
    }
   ],
   "source": [
    "model_c.predict_proba(df_test.loc[:, :\"Entropy\"]) # proba : probability (확률값)"
   ]
  },
  {
   "cell_type": "code",
   "execution_count": 273,
   "id": "ab0621d6",
   "metadata": {},
   "outputs": [
    {
     "data": {
      "text/plain": [
       "array([0, 0, 0, 1, 1, 1, 1, 0, 0, 1, 0, 1, 0, 1, 0, 1, 0, 1, 0, 0, 0, 0,\n",
       "       0, 1, 1, 1, 0, 1, 0, 0, 1, 1, 1, 1, 1, 1, 1, 1, 0, 1, 1, 0, 1, 0,\n",
       "       1, 1, 1, 0, 1, 0, 1, 0, 1, 0, 0, 0, 0, 0, 0, 0, 0, 1, 1, 0, 0, 0,\n",
       "       1, 1, 0, 1, 0, 1, 1, 0, 0, 1, 0, 0, 0, 0, 0, 1, 0, 0, 0, 0, 1, 0,\n",
       "       1, 0, 1, 1, 1, 0, 0, 1, 1, 0, 0, 0, 0, 0, 0, 1, 1, 1, 0, 1, 0, 0,\n",
       "       0, 0, 0, 0, 0, 1, 0, 0, 0, 1, 1, 0, 1, 0, 0, 0, 1, 1, 0, 0, 0, 0,\n",
       "       1, 0, 0, 1, 0, 0, 1, 0, 1, 1, 0, 0, 1, 0, 0, 0, 0, 1, 0, 0, 0, 1,\n",
       "       1, 0, 1, 1, 1, 0, 1, 1, 0, 1, 0, 0, 0, 0, 0, 1, 1, 1, 1, 1, 0, 0,\n",
       "       1, 1, 0, 0, 0, 1, 0, 0, 1, 0, 1, 1, 1, 0, 0, 1, 0, 0, 0, 1, 1, 0,\n",
       "       1, 1, 1, 0, 0, 1, 0, 0, 0, 1, 0, 1, 1, 1, 1, 1, 0, 0, 1, 1, 0, 0,\n",
       "       0, 0, 1, 1, 1, 0, 0, 0, 0, 0, 0, 1, 1, 0, 1, 1, 0, 0, 0, 0, 1, 1,\n",
       "       1, 0, 1, 0, 0, 1, 0, 1, 1, 0, 0, 0, 1, 1, 1, 1, 1, 1, 1, 0, 1, 1,\n",
       "       1, 0, 0, 1, 0, 0, 1, 0, 0, 0, 0, 0, 1, 0, 1, 1, 0, 1, 1, 0, 0, 0,\n",
       "       1, 0, 1, 0, 0, 1, 0, 1, 0, 0, 1, 0, 0, 0, 1, 1, 0, 0, 1, 1, 1, 1,\n",
       "       0, 1, 0, 0, 1, 1, 1, 0, 1, 0, 1, 1, 0, 0, 1, 0, 0, 1, 0, 0, 0, 1,\n",
       "       0, 1, 0, 1, 0, 1, 1, 0, 1, 1, 0, 0, 0, 0, 0, 1, 1, 0, 0, 1, 1, 0,\n",
       "       1, 0, 0, 1, 0, 1, 0, 1, 1, 1, 0, 1, 1, 1, 1, 0, 0, 0, 0, 0, 1, 0,\n",
       "       1, 0, 0, 0, 0, 1, 0, 0, 0, 1, 1, 0, 0, 1, 0, 0, 0, 0, 0, 1, 0, 0,\n",
       "       1, 0, 1, 0, 0, 0, 0, 0, 1, 0, 1, 1, 1, 1, 0, 0, 0, 1, 0, 1, 0, 0,\n",
       "       0, 1, 0, 0, 0, 1, 0, 0, 0, 0, 1, 1, 1, 0, 1, 0, 1, 1, 0, 0, 1, 0,\n",
       "       0, 1, 0, 0, 0, 1, 1, 0, 1, 1, 0, 0, 0, 0, 1, 1, 0, 1, 1, 0, 0, 0,\n",
       "       1, 0, 1, 0, 0, 1, 0, 1, 0, 1, 1, 1, 1, 0, 1, 0, 0, 0, 0, 1, 0, 1,\n",
       "       0, 0, 0, 0, 1, 1, 0, 1, 1, 0, 0, 1, 0, 0, 1, 0, 0, 0, 1, 1, 1, 0,\n",
       "       1, 1, 0, 0, 1, 1, 0, 0, 1, 1, 0, 1, 1, 1, 1, 0, 0, 0, 1, 1, 0, 0,\n",
       "       1, 1, 0, 1, 0, 1, 1, 0, 0, 0, 0, 1, 1, 1, 1, 1, 0, 0, 0, 0, 1],\n",
       "      dtype=int64)"
      ]
     },
     "execution_count": 273,
     "metadata": {},
     "output_type": "execute_result"
    }
   ],
   "source": [
    "model_c.predict(df_test.loc[:, :\"Entropy\"])"
   ]
  },
  {
   "cell_type": "code",
   "execution_count": null,
   "id": "2c27f262",
   "metadata": {},
   "outputs": [],
   "source": []
  }
 ],
 "metadata": {
  "kernelspec": {
   "display_name": "Python 3",
   "language": "python",
   "name": "python3"
  },
  "language_info": {
   "codemirror_mode": {
    "name": "ipython",
    "version": 3
   },
   "file_extension": ".py",
   "mimetype": "text/x-python",
   "name": "python",
   "nbconvert_exporter": "python",
   "pygments_lexer": "ipython3",
   "version": "3.8.10"
  }
 },
 "nbformat": 4,
 "nbformat_minor": 5
}
